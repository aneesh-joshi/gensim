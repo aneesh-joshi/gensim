{
 "cells": [
  {
   "cell_type": "markdown",
   "metadata": {},
   "source": [
    "## First, we will install the dependencies for running the Similarity Learning task"
   ]
  },
  {
   "cell_type": "code",
   "execution_count": 1,
   "metadata": {},
   "outputs": [
    {
     "name": "stderr",
     "output_type": "stream",
     "text": [
      "Using TensorFlow backend.\n"
     ]
    }
   ],
   "source": [
    "import os\n",
    "import csv\n",
    "import re\n",
    "from drmm_tks import DRMM_TKS_Model\n",
    "from pprint import pprint"
   ]
  },
  {
   "cell_type": "markdown",
   "metadata": {},
   "source": [
    "## Data Format"
   ]
  },
  {
   "cell_type": "markdown",
   "metadata": {},
   "source": [
    "We have to provide data in a format which is understood by the model.\n",
    "The model understands sentences as a list of words. \n",
    "Further, we need to give a :\n",
    " 1. Queries List\n",
    " 2. Candidate Document List\n",
    " 3. Correct Label List\n",
    "\n",
    "1 is a list of list of words\n",
    "2 and 3 is actually a list of list of list of words/ints\n",
    "\n",
    "Example:\n",
    "```\n",
    "queries = [\"When was Abraham Lincoln born ?\".split(), \n",
    "            \"When was the first World War ?\".split()]\n",
    "docs = [\n",
    "\t\t [\"Abraham Lincoln was the president of the United States of America\".split(),\n",
    "\t\t \"He was born in 1809\".split()],\n",
    "\t\t [\"The first world war was bad\".split(),\n",
    "\t\t \"It was fought in 1914\".split(),\n",
    "\t\t \"There were over a million deaths\".split()]\n",
    "       ]\n",
    "labels = [[0,\n",
    "           1],\n",
    "\t\t  [0,\n",
    "           1,\n",
    "           0]\n",
    "          ]\n",
    "```"
   ]
  },
  {
   "cell_type": "markdown",
   "metadata": {},
   "source": [
    "## About the dataset : WikiQA\n",
    "\n",
    "The WikiQA corpus is a set of question-answer pairs in which for every query there are several candidate documents of which none, one or more documents might be relevant.\n",
    "Relevance is purely binary, i.e., 1: relavant, 0: not relevant\n",
    "\n",
    "Sample data:\n",
    "```\n",
    "QuestionID\tQuestion\tDocumentID\tDocumentTitle\tSentenceID\tSentence\tLabel\n",
    "Q1\thow are glacier caves formed?\tD1\tGlacier cave\tD1-0\tA partly submerged glacier cave on Perito Moreno Glacier .\t0\n",
    "Q1\thow are glacier caves formed?\tD1\tGlacier cave\tD1-1\tThe ice facade is approximately 60 m high\t0\n",
    "Q1\thow are glacier caves formed?\tD1\tGlacier cave\tD1-2\tIce formations in the Titlis glacier cave\t0\n",
    "Q1\thow are glacier caves formed?\tD1\tGlacier cave\tD1-3\tA glacier cave is a cave formed within the ice of a glacier .\t1\n",
    "Q1\thow are glacier caves formed?\tD1\tGlacier cave\tD1-4\tGlacier caves are often called ice caves , but this term is properly used to describe bedrock caves that contain year-round ice.\t0\n",
    "```\n",
    "\n",
    "## Data Preprocessing\n",
    "We need to take the above text and make it into `queries, docs, labels` form\n",
    "We use the below code for that\n"
   ]
  },
  {
   "cell_type": "code",
   "execution_count": 2,
   "metadata": {
    "collapsed": true,
    "scrolled": true
   },
   "outputs": [],
   "source": [
    "# Fill the below with wherever you have your WikiQACorpus Folder\n",
    "wikiqa_data_path = os.path.join('data', 'WikiQACorpus', 'WikiQA-train.tsv')\n",
    "\n",
    "\n",
    "def preprocess_sent(sent):\n",
    "    \"\"\"Utility function to lower, strip and tokenize each sentence\n",
    "    \n",
    "    Replace this function if you want to handle preprocessing differently\"\"\"\n",
    "    return re.sub(\"[^a-zA-Z0-9]\", \" \", sent.strip().lower()).split()\n",
    "\n",
    "# Defining some consants for .tsv reading\n",
    "QUESTION_ID_INDEX = 0\n",
    "QUESTION_INDEX = 1\n",
    "ANSWER_INDEX = 5\n",
    "LABEL_INDEX = 6\n",
    "\n",
    "with open(wikiqa_data_path, encoding='utf8') as tsv_file:\n",
    "    tsv_reader = csv.reader(tsv_file, delimiter='\\t')\n",
    "    data_rows = []\n",
    "    for row in tsv_reader:\n",
    "        data_rows.append(row)\n",
    "\n",
    "\n",
    "        \n",
    "document_group = []\n",
    "label_group = []\n",
    "\n",
    "n_relevant_docs = 0\n",
    "n_filtered_docs = 0\n",
    "\n",
    "queries = []\n",
    "docs = []\n",
    "labels = []\n",
    "\n",
    "for i, line in enumerate(data_rows[1:], start=1):\n",
    "    if i < len(data_rows) - 1:  # check if out of bounds might occur\n",
    "        if data_rows[i][QUESTION_ID_INDEX] == data_rows[i + 1][QUESTION_ID_INDEX]:\n",
    "            document_group.append(preprocess_sent(data_rows[i][ANSWER_INDEX]))\n",
    "            label_group.append(int(data_rows[i][LABEL_INDEX]))\n",
    "            n_relevant_docs += int(data_rows[i][LABEL_INDEX])\n",
    "        else:\n",
    "            document_group.append(preprocess_sent(data_rows[i][ANSWER_INDEX]))\n",
    "            label_group.append(int(data_rows[i][LABEL_INDEX]))\n",
    "\n",
    "            n_relevant_docs += int(data_rows[i][LABEL_INDEX])\n",
    "\n",
    "            if n_relevant_docs > 0:\n",
    "                docs.append(document_group)\n",
    "                labels.append(label_group)\n",
    "                queries.append(preprocess_sent(data_rows[i][QUESTION_INDEX]))\n",
    "            else:\n",
    "                n_filtered_docs += 1\n",
    "\n",
    "            n_relevant_docs = 0\n",
    "            document_group = []\n",
    "            label_group = []\n",
    "\n",
    "    else:\n",
    "        # If we are on the last line\n",
    "        document_group.append(preprocess_sent(data_rows[i][ANSWER_INDEX]))\n",
    "        label_group.append(int(data_rows[i][LABEL_INDEX]))\n",
    "        n_relevant_docs += int(data_rows[i][LABEL_INDEX])\n",
    "\n",
    "        if n_relevant_docs > 0:\n",
    "            docs.append(document_group)\n",
    "            labels.append(label_group)\n",
    "            queries.append(preprocess_sent(data_rows[i][QUESTION_INDEX]))\n",
    "        else:\n",
    "            n_filtered_docs += 1\n",
    "            n_relevant_docs = 0"
   ]
  },
  {
   "cell_type": "markdown",
   "metadata": {},
   "source": [
    "## Let's have a look at the data"
   ]
  },
  {
   "cell_type": "code",
   "execution_count": 3,
   "metadata": {},
   "outputs": [
    {
     "data": {
      "text/plain": [
       "['what', 'type', 'of', 'batteries', 'are', '357', 'lr44']"
      ]
     },
     "execution_count": 3,
     "metadata": {},
     "output_type": "execute_result"
    }
   ],
   "source": [
    "queries[300]"
   ]
  },
  {
   "cell_type": "code",
   "execution_count": 4,
   "metadata": {},
   "outputs": [
    {
     "name": "stdout",
     "output_type": "stream",
     "text": [
      "[['lr44', 'is', 'the', 'iec', 'designation', 'for', 'an', 'alkaline', '1', '5', 'volt', 'button', 'cell', 'commonly', 'used', 'in', 'small', 'led', 'flashlights', 'digital', 'thermometers', 'calculators', 'calipers', 'watches', 'clocks', 'toys', 'and', 'laser', 'pointers'], ['lr44', 'alkaline', 'cell'], ['the', 'battery', 'nomenclature', 'is', 'defined', 'by', 'the', 'international', 'electrotechnical', 'commission', 'iec', 'in', 'its', '60086', '3', 'standard', 'primary', 'batteries', 'part', '3', 'watch', 'batteries'], ['the', 'letter', 'l', 'indicates', 'the', 'electrochemical', 'system', 'used', 'a', 'zinc', 'negative', 'electrode', 'manganese', 'dioxide', 'depolarizer', 'and', 'positive', 'electrode', 'and', 'an', 'alkaline', 'electrolyte'], ['r44', 'indicates', 'a', 'round', 'cell', '11', '4', '0', '2', 'mm', 'diameter', 'and', '5', '2', '0', '2', 'mm', 'height', 'as', 'defined', 'by', 'the', 'iec', 'standard', '60086'], ['manufacturers', 'have', 'their', 'own', 'part', 'numbers', 'for', 'iec', 'type', 'lr44', 'batteries', 'including'], ['lr44', 'lr44g', 'lr44gd', 'lr44h'], ['lr1154', 'l1154', 'l1154c', 'l1154f', 'l1154g', 'l1154h'], ['6135', '99', '792', '8475', 'nsn'], ['1166a'], ['ag13', 'a613', 'ag14', 'ag', '14', 'g13a', 'g13', 'a'], ['157', '303', '357'], ['a76', 'gda76', 'gp76a', 'gpa7', 'gpa75', 'gpa76', 'gps76a'], ['1128mp', '208', '904', 'a', '76', 'ca18', 'ca19', 'cr44', 'd76a', 'ka', 'ka76', 'ms76h', 'px76a', 'px675a', 'rpx675', 'rw82', 'sb', 'f9', 'v13ga'], ['4', '5', 'volt', 'd', 'c', 'aa', 'aaa', 'aaaa', 'a23', '9', 'volt', 'cr2032', 'and', 'lr44', 'batteries'], ['other', 'types', 'of', 'batteries', 'are', 'or', 'were', 'made', 'in', 'the', 'r44', 'size'], ['formerly', 'mercury', 'batteries', 'were', 'made', 'as', 'button', 'cells', 'types', 'mr44', 'and', 'nr44'], ['zinc', 'air', 'batteries', 'type', 'pr44', 'require', 'air', 'to', 'work'], ['silver', 'oxide', 'batteries', 'type', 'sr44', 'may', 'provide', 'extra', 'capacity', 'compared', 'to', 'lr44', 'types', 'but', 'have', 'slightly', 'different', 'voltage', 'characteristics'], ['performance', 'of', 'a', 'device', 'meant', 'to', 'use', 'a', 'silver', 'oxide', 'battery', 'may', 'be', 'degraded', 'with', 'substitution', 'of', 'lr44', 'types'], ['manufacturer', 's', 'numbers', 'for', 'silver', 'oxide', 'r44', 'size', 'cells', 'include'], ['sr44', 'sr44w', 'sr44sw'], ['6135', '99', '651', '3240', 'nsn'], ['sr1154'], ['1107so'], ['1131sop'], ['sg13'], ['s76'], ['epx76', 'energizer'], ['303', '357', 'd357h']]\n"
     ]
    }
   ],
   "source": [
    "print(docs[300])"
   ]
  },
  {
   "cell_type": "code",
   "execution_count": 5,
   "metadata": {},
   "outputs": [
    {
     "name": "stdout",
     "output_type": "stream",
     "text": [
      "[1, 0, 0, 0, 0, 0, 0, 0, 0, 0, 0, 0, 0, 0, 0, 0, 0, 0, 0, 0, 0, 0, 0, 0, 0, 0, 0, 0, 0, 0]\n"
     ]
    }
   ],
   "source": [
    "print(labels[300])"
   ]
  },
  {
   "cell_type": "markdown",
   "metadata": {},
   "source": [
    "## Making a train-validation split\n",
    "At this point, it would be good to make a train-validation split so we can see how the model performs as it trains"
   ]
  },
  {
   "cell_type": "code",
   "execution_count": 6,
   "metadata": {
    "collapsed": true
   },
   "outputs": [],
   "source": [
    "train_queries, test_queries = queries[:int(len(queries)*0.8)], queries[int(len(queries)*0.8): ]\n",
    "train_docs, test_docs = docs[:int(len(docs)*0.8)], docs[int(len(docs)*0.8):]\n",
    "train_labels, test_labels = labels[:int(len(labels)*0.8)], labels[int(len(labels)*0.8):]"
   ]
  },
  {
   "cell_type": "code",
   "execution_count": 7,
   "metadata": {},
   "outputs": [
    {
     "name": "stdout",
     "output_type": "stream",
     "text": [
      "698 175\n",
      "698 175\n",
      "698 175\n"
     ]
    }
   ],
   "source": [
    "print(len(train_queries), len(test_queries))\n",
    "print(len(train_docs), len(test_docs))\n",
    "print(len(train_labels), len(test_labels))"
   ]
  },
  {
   "cell_type": "markdown",
   "metadata": {},
   "source": [
    "# Training the Model\n",
    "If we want to train the model with some pretrained word embeddingd like Glove, we will have to specify the path"
   ]
  },
  {
   "cell_type": "code",
   "execution_count": 8,
   "metadata": {
    "collapsed": true
   },
   "outputs": [],
   "source": [
    "word_embedding_path = os.path.join('data', 'glove.6B.50d.txt')"
   ]
  },
  {
   "cell_type": "markdown",
   "metadata": {},
   "source": [
    "We would like to monitor the progress of training of the model.\n",
    "However, we can't rely on the metrics provided by keras as those metrics don't necessarily apply to Information Retrieval problems.\n",
    "\n",
    "We can additionally provide a validation dataset which will be tested after every epoch.\n",
    "\n",
    "Now that we have the preprocessed extracted data, training the model just takes one line:"
   ]
  },
  {
   "cell_type": "code",
   "execution_count": 9,
   "metadata": {},
   "outputs": [
    {
     "name": "stderr",
     "output_type": "stream",
     "text": [
      "2018-06-21 19:09:33,376 : INFO : Starting Vocab Build\n",
      "2018-06-21 19:09:33,457 : INFO : Vocab Build Complete\n",
      "2018-06-21 19:09:33,458 : INFO : Vocab Size is 17787\n",
      "2018-06-21 19:09:33,459 : INFO : Building embedding index using pretrained word embeddings\n",
      "2018-06-21 19:09:41,432 : INFO : The embeddings_index built from the given file has 400000 words of 50 dimensions\n",
      "2018-06-21 19:09:41,433 : INFO : Embedding Matrix for Embedding Layer has shape (17788, 50) \n",
      "2018-06-21 19:09:41,472 : INFO : There are 590 words not in the embeddings. Setting them to zero\n",
      "2018-06-21 19:09:41,473 : INFO : Adding additional dimensions from the embedding file to embedding matrix\n",
      "2018-06-21 19:09:42,084 : INFO : Normalizing the word embeddings\n",
      "2018-06-21 19:09:42,373 : INFO : Embedding Matrix now has shape (400593, 50)\n",
      "2018-06-21 19:09:42,374 : INFO : Pad word has been set to index 400590\n",
      "2018-06-21 19:09:42,375 : INFO : Embedding index build complete\n"
     ]
    },
    {
     "name": "stdout",
     "output_type": "stream",
     "text": [
      "____________________________________________________________________________________________________\n",
      "Layer (type)                     Output Shape          Param #     Connected to                     \n",
      "====================================================================================================\n",
      "query (InputLayer)               (None, 200)           0                                            \n",
      "____________________________________________________________________________________________________\n",
      "doc (InputLayer)                 (None, 200)           0                                            \n",
      "____________________________________________________________________________________________________\n",
      "embedding_1 (Embedding)          (None, 200, 50)       20029650    query[0][0]                      \n",
      "                                                                   doc[0][0]                        \n",
      "____________________________________________________________________________________________________\n",
      "mm_q_embed_DOT_d_embed (Dot)     (None, 200, 200)      0           embedding_1[0][0]                \n",
      "                                                                   embedding_1[1][0]                \n",
      "____________________________________________________________________________________________________\n",
      "mm_k_topk_mm (Lambda)            (None, 200, 50)       0           mm_q_embed_DOT_d_embed[0][0]     \n",
      "____________________________________________________________________________________________________\n",
      "mm_k_Dense_100_mm_k (Dense)      (None, 200, 100)      5100        mm_k_topk_mm[0][0]               \n",
      "____________________________________________________________________________________________________\n",
      "mm_k_Dense_1_mm_k (Dense)        (None, 200, 1)        101         mm_k_Dense_100_mm_k[0][0]        \n",
      "____________________________________________________________________________________________________\n",
      "w_g_Dense_1_q_embed (Dense)      (None, 200, 1)        51          embedding_1[0][0]                \n",
      "____________________________________________________________________________________________________\n",
      "mm_k_dropout_Dropout_mm_k (Dropo (None, 200, 1)        0           mm_k_Dense_1_mm_k[0][0]          \n",
      "____________________________________________________________________________________________________\n",
      "g_Softmax_w_g (Lambda)           (None, 200)           0           w_g_Dense_1_q_embed[0][0]        \n",
      "____________________________________________________________________________________________________\n",
      "mm_reshape_Reshape_maxlen_mm_k_d (None, 200)           0           mm_k_dropout_Dropout_mm_k[0][0]  \n",
      "____________________________________________________________________________________________________\n",
      "g_Reshape_maxlen_w_g (Reshape)   (None, 200)           0           g_Softmax_w_g[0][0]              \n",
      "____________________________________________________________________________________________________\n",
      "mean_mm_reshape_DOT_g (Dot)      (None, 1)             0           mm_reshape_Reshape_maxlen_mm_k_dr\n",
      "                                                                   g_Reshape_maxlen_w_g[0][0]       \n",
      "____________________________________________________________________________________________________\n",
      "out_Reshape_mean (Reshape)       (None, 1)             0           mean_mm_reshape_DOT_g[0][0]      \n",
      "====================================================================================================\n",
      "Total params: 20,034,902\n",
      "Trainable params: 5,252\n",
      "Non-trainable params: 20,029,650\n",
      "____________________________________________________________________________________________________\n",
      "Epoch 1/3\n",
      "14950/14962 [============================>.] - ETA: 0s - loss: 0.2439 - acc: 0.5702"
     ]
    },
    {
     "name": "stderr",
     "output_type": "stream",
     "text": [
      "2018-06-21 19:10:21,022 : INFO : Using 175 out of 175 data points which is 0.00%. 0 were skipped\n",
      "2018-06-21 19:10:21,038 : INFO : Using 175 out of 175 data points which is 0.00%. 0 were skipped\n",
      "2018-06-21 19:10:21,064 : INFO : Using 175 out of 175 data points which is 0.00%. 0 were skipped\n",
      "2018-06-21 19:10:21,085 : INFO : Using 175 out of 175 data points which is 0.00%. 0 were skipped\n",
      "2018-06-21 19:10:21,110 : INFO : Using 175 out of 175 data points which is 0.00%. 0 were skipped\n",
      "2018-06-21 19:10:21,137 : INFO : Using 175 out of 175 data points which is 0.00%. 0 were skipped\n"
     ]
    },
    {
     "name": "stdout",
     "output_type": "stream",
     "text": [
      "MAP:  0.476730718902\n",
      "nDCG@ 1 :  0.268571428571\n",
      "nDCG@ 3 :  0.475654849525\n",
      "nDCG@ 5 :  0.538095362202\n",
      "nDCG@ 10 :  0.603041857308\n",
      "nDCG@ 20 :  0.614393862232\n",
      "14962/14962 [==============================] - 36s - loss: 0.2439 - acc: 0.5702    \n",
      "Epoch 2/3\n",
      "14960/14962 [============================>.] - ETA: 0s - loss: 0.2410 - acc: 0.5781"
     ]
    },
    {
     "name": "stderr",
     "output_type": "stream",
     "text": [
      "2018-06-21 19:10:55,931 : INFO : Using 175 out of 175 data points which is 0.00%. 0 were skipped\n",
      "2018-06-21 19:10:55,940 : INFO : Using 175 out of 175 data points which is 0.00%. 0 were skipped\n",
      "2018-06-21 19:10:55,958 : INFO : Using 175 out of 175 data points which is 0.00%. 0 were skipped\n",
      "2018-06-21 19:10:55,970 : INFO : Using 175 out of 175 data points which is 0.00%. 0 were skipped\n",
      "2018-06-21 19:10:55,981 : INFO : Using 175 out of 175 data points which is 0.00%. 0 were skipped\n",
      "2018-06-21 19:10:55,992 : INFO : Using 175 out of 175 data points which is 0.00%. 0 were skipped\n"
     ]
    },
    {
     "name": "stdout",
     "output_type": "stream",
     "text": [
      "MAP:  0.51234904502\n",
      "nDCG@ 1 :  0.337142857143\n",
      "nDCG@ 3 :  0.505490060509\n",
      "nDCG@ 5 :  0.575814710287\n",
      "nDCG@ 10 :  0.629110718279\n",
      "nDCG@ 20 :  0.642106424557\n",
      "14962/14962 [==============================] - 34s - loss: 0.2410 - acc: 0.5781    \n",
      "Epoch 3/3\n",
      "14955/14962 [============================>.] - ETA: 0s - loss: 0.2398 - acc: 0.5753"
     ]
    },
    {
     "name": "stderr",
     "output_type": "stream",
     "text": [
      "2018-06-21 19:11:30,690 : INFO : Using 175 out of 175 data points which is 0.00%. 0 were skipped\n",
      "2018-06-21 19:11:30,701 : INFO : Using 175 out of 175 data points which is 0.00%. 0 were skipped\n",
      "2018-06-21 19:11:30,711 : INFO : Using 175 out of 175 data points which is 0.00%. 0 were skipped\n",
      "2018-06-21 19:11:30,722 : INFO : Using 175 out of 175 data points which is 0.00%. 0 were skipped\n",
      "2018-06-21 19:11:30,733 : INFO : Using 175 out of 175 data points which is 0.00%. 0 were skipped\n",
      "2018-06-21 19:11:30,746 : INFO : Using 175 out of 175 data points which is 0.00%. 0 were skipped\n"
     ]
    },
    {
     "name": "stdout",
     "output_type": "stream",
     "text": [
      "MAP:  0.533664713478\n",
      "nDCG@ 1 :  0.371428571429\n",
      "nDCG@ 3 :  0.525354523284\n",
      "nDCG@ 5 :  0.593719007026\n",
      "nDCG@ 10 :  0.647851673016\n",
      "nDCG@ 20 :  0.658232724156\n",
      "14962/14962 [==============================] - 34s - loss: 0.2398 - acc: 0.5752    \n"
     ]
    }
   ],
   "source": [
    "# Train the model\n",
    "drmm_tks_model = DRMM_TKS_Model(train_queries, train_docs, train_labels, word_embedding_path=word_embedding_path,\n",
    "                                epochs=3, validation_data=[test_queries, test_docs, test_labels])"
   ]
  },
  {
   "cell_type": "markdown",
   "metadata": {},
   "source": [
    "## Testing the model on new data\n",
    "\n",
    "The testing of the data can be done on completely unseen data using `model.predict(queries, docs)` where\n",
    "queries: list of list of words\n",
    "docs: list of list of list of words"
   ]
  },
  {
   "cell_type": "code",
   "execution_count": 10,
   "metadata": {
    "collapsed": true
   },
   "outputs": [],
   "source": [
    "# Example:\n",
    "queries = [\"how are glacier caves formed ?\".split()]\n",
    "docs = [\"A partly submerged glacier cave on Perito Moreno Glacier\".split(),\n",
    "        \"A glacier cave is a cave formed within the ice of a glacier\".split()]"
   ]
  },
  {
   "cell_type": "code",
   "execution_count": 11,
   "metadata": {},
   "outputs": [
    {
     "name": "stdout",
     "output_type": "stream",
     "text": [
      "[[ 0.44529271]\n",
      " [ 0.57637918]]\n"
     ]
    }
   ],
   "source": [
    "drmm_tks_model.predict(queries, docs)"
   ]
  },
  {
   "cell_type": "markdown",
   "metadata": {},
   "source": [
    "As can be seen above, the correct answer has the higher similarity score."
   ]
  }
 ],
 "metadata": {
  "kernelspec": {
   "display_name": "Python 3",
   "language": "python",
   "name": "python3"
  },
  "language_info": {
   "codemirror_mode": {
    "name": "ipython",
    "version": 3
   },
   "file_extension": ".py",
   "mimetype": "text/x-python",
   "name": "python",
   "nbconvert_exporter": "python",
   "pygments_lexer": "ipython3",
   "version": "3.6.2"
  }
 },
 "nbformat": 4,
 "nbformat_minor": 2
}
