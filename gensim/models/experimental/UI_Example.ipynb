{
 "cells": [
  {
   "cell_type": "markdown",
   "metadata": {},
   "source": [
    "# Getting the dataset\n",
    "A script has been provided to download all the datasets required for running the below examples.\n",
    "It will dowload and unzip the WikiQA Corpus and the Quora Duplicate Questions dataset."
   ]
  },
  {
   "cell_type": "code",
   "execution_count": null,
   "metadata": {},
   "outputs": [],
   "source": [
    "!python experimental_data/get_data.py"
   ]
  },
  {
   "cell_type": "markdown",
   "metadata": {},
   "source": [
    "## Installing dependencies for running the Similarity Learning task"
   ]
  },
  {
   "cell_type": "code",
   "execution_count": 2,
   "metadata": {},
   "outputs": [
    {
     "name": "stderr",
     "output_type": "stream",
     "text": [
      "Using TensorFlow backend.\n",
      "2018-07-02 17:01:09,150 : INFO : 'pattern' package not found; tag filters are not available for English\n"
     ]
    }
   ],
   "source": [
    "import os\n",
    "import csv\n",
    "import re\n",
    "from gensim.models.experimental.drmm_tks import DRMM_TKS\n",
    "from gensim.utils import simple_preprocess"
   ]
  },
  {
   "cell_type": "markdown",
   "metadata": {},
   "source": [
    "## Data Format"
   ]
  },
  {
   "cell_type": "markdown",
   "metadata": {},
   "source": [
    "We have to provide data in a format which is understood by the model.\n",
    "The model understands sentences as a list of words. \n",
    "Further, we need to give a :\n",
    " 1. Queries List\n",
    " 2. Candidate Document List\n",
    " 3. Correct Label List\n",
    "\n",
    "1 is a list of list of words\n",
    "2 and 3 is actually a list of list of list of words/ints\n",
    "\n",
    "Example:\n",
    "```\n",
    "queries = [\"When was Abraham Lincoln born ?\".split(), \n",
    "            \"When was the first World War ?\".split()]\n",
    "docs = [\n",
    "\t\t [\"Abraham Lincoln was the president of the United States of America\".split(),\n",
    "\t\t \"He was born in 1809\".split()],\n",
    "\t\t [\"The first world war was bad\".split(),\n",
    "\t\t \"It was fought in 1914\".split(),\n",
    "\t\t \"There were over a million deaths\".split()]\n",
    "       ]\n",
    "labels = [[0,\n",
    "           1],\n",
    "\t\t  [0,\n",
    "           1,\n",
    "           0]\n",
    "          ]\n",
    "```"
   ]
  },
  {
   "cell_type": "markdown",
   "metadata": {},
   "source": [
    "## About the dataset : WikiQA\n",
    "\n",
    "The WikiQA corpus is a set of question-answer pairs in which for every query there are several candidate documents of which none, one or more documents might be relevant.\n",
    "Relevance is purely binary, i.e., 1: relavant, 0: not relevant\n",
    "\n",
    "Sample data:\n",
    "\n",
    "QuestionID | Question | DocumentID | DocumentTitle | SentenceID | Sentence | Label\n",
    "-- | -- | -- | -- | -- | -- | --\n",
    "Q1 | how are glacier caves formed? | D1 | Glacier cave | D1-0 | A partly submerged glacier cave on Perito Moreno Glacier . | 0\n",
    "Q1 | how are glacier caves formed? | D1 | Glacier cave | D1-1 | The ice facade is approximately 60 m high | 0\n",
    "Q1 | how are glacier caves formed? | D1 | Glacier cave | D1-2 | Ice formations in the Titlis glacier cave | 0\n",
    "Q1 | how are glacier caves formed? | D1 | Glacier cave | D1-3 | A glacier cave is a cave formed within the ice of a glacier . | 1\n",
    "Q1 | how are glacier caves formed? | D1 | Glacier cave | D1-4 | Glacier caves are often called ice caves , but this term is properly used to describe bedrock caves that contain year-round ice. | 0\n",
    "Q2 | How are the directions of the velocity and force vectors related in a circular motion | D2 | Circular motion | D2-0 | In physics , circular motion is a movement of an object along the circumference of a circle or rotation along a circular path. | 0\n",
    "Q2 | How are the directions of the velocity and force vectors related in a circular motion | D2 | Circular motion | D2-1 | It can be uniform, with constant angular rate of rotation (and constant speed), or non-uniform with a changing rate of rotation. | 0\n",
    "Q2 | How are the directions of the velocity and force vectors related in a circular motion | D2 | Circular motion | D2-2 | The rotation around a fixed axis of a three-dimensional body involves circular motion of its parts. | 0\n",
    "Q2 | How are the directions of the velocity and force vectors related in a circular motion | D2 | Circular motion | D2-3 | The equations of motion describe the movement of the center of mass of a body. | 0\n",
    "Q2 | How are the directions of the velocity and force vectors related in a circular motion | D2 | Circular motion | D2-4 | Examples of circular motion include: an artificial satellite orbiting the Earth at constant height, a stone which is tied to a rope and is being swung in circles, a car turning through a curve in a race track , an electron moving perpendicular to a uniform magnetic field , and a gear turning inside a mechanism. | 0\n",
    "Q2 | How are the directions of the velocity and force vectors related in a circular motion | D2 | Circular motion | D2-5 | Since the object's velocity vector is constantly changing direction, the moving object is undergoing acceleration by a centripetal force in the direction of the center of rotation. | 0\n",
    "Q2 | How are the directions of the velocity and force vectors related in a circular motion | D2 | Circular motion | D2-6 | Without this acceleration, the object would move in a straight line, according to Newton's laws of motion . | 0"
   ]
  },
  {
   "cell_type": "markdown",
   "metadata": {},
   "source": [
    "## Data Preprocessing\n",
    "We need to take the above text and make it into `queries, docs, labels` form. For this, we will create an iterable object with the below class which will allow the data to be streamed into the model as the need arises."
   ]
  },
  {
   "cell_type": "code",
   "execution_count": 3,
   "metadata": {},
   "outputs": [],
   "source": [
    "class MyWikiIterable:\n",
    "    \"\"\"\"Yields the next data point in the data set based on the `iter_type`\n",
    "    \n",
    "    Based on `iter_type` the object can yield the following:\n",
    "        'query' : list of str words\n",
    "        'doc' : list of docs\n",
    "                    where a doc is a list of str words\n",
    "        'label' : list of int\n",
    "                  The relevance between adjacent queries and docs\n",
    "    \"\"\"\n",
    "\n",
    "    def __init__(self, iter_type, fpath):\n",
    "        \"\"\"\n",
    "        Parameters\n",
    "        ----------\n",
    "        iter_type : {'query', 'doc', 'label'}\n",
    "            the type of iterable to be yielded\n",
    "        fpath : str\n",
    "            path to the dataset\n",
    "        \"\"\"\n",
    "\n",
    "        # To map the `iter_type` to an index\n",
    "        self.type_translator = {'query': 0, 'doc': 1, 'label': 2}\n",
    "        self.iter_type = iter_type\n",
    "\n",
    "        with open(fpath, encoding='utf8') as tsv_file:\n",
    "            tsv_reader = csv.reader(tsv_file, delimiter='\\t', quoting=csv.QUOTE_NONE)\n",
    "            self.data_rows = []\n",
    "            self.data_rows = [row for row in tsv_reader]\n",
    "\n",
    "    def preprocess_sent(self, sent):\n",
    "        \"\"\"Utility function to lower, strip and tokenize each sentence\n",
    "        Replace this function if you want to handle preprocessing differently\"\"\"\n",
    "\n",
    "        return simple_preprocess(sent)\n",
    "\n",
    "    def __iter__(self):\n",
    "        # Defining some consants for .tsv reading\n",
    "        # They represent the columns of the respective values\n",
    "        QUESTION_ID_INDEX = 0\n",
    "        QUESTION_INDEX = 1\n",
    "        ANSWER_INDEX = 5\n",
    "        LABEL_INDEX = 6\n",
    "\n",
    "\n",
    "        # The group of documents and labels that belong to one question\n",
    "        document_group = []\n",
    "        label_group = []\n",
    "\n",
    "        # Number of relevant documents per query\n",
    "        n_relevant_docs = 0\n",
    "        # Number of filtered docs (query-doc pairs which have zero relevant docs)\n",
    "        n_filtered_docs = 0\n",
    "\n",
    "        # The data\n",
    "        queries = []\n",
    "        docs = []\n",
    "        labels = []\n",
    "\n",
    "        # The code below goes through the data line by line\n",
    "        # It checks the current document id with the next document id\n",
    "        for i, line in enumerate(self.data_rows[1:], start=1):\n",
    "            if i < len(self.data_rows) - 1:  # check if out of bounds might occur\n",
    "                if self.data_rows[i][QUESTION_ID_INDEX] == self.data_rows[i + 1][QUESTION_ID_INDEX]:\n",
    "                    document_group.append(self.preprocess_sent(self.data_rows[i][ANSWER_INDEX]))\n",
    "                    label_group.append(int(self.data_rows[i][LABEL_INDEX]))\n",
    "                    n_relevant_docs += int(self.data_rows[i][LABEL_INDEX])\n",
    "                else:\n",
    "                    document_group.append(self.preprocess_sent(self.data_rows[i][ANSWER_INDEX]))\n",
    "                    label_group.append(int(self.data_rows[i][LABEL_INDEX]))\n",
    "\n",
    "                    n_relevant_docs += int(self.data_rows[i][LABEL_INDEX])\n",
    "\n",
    "                    if n_relevant_docs > 0:\n",
    "                        docs.append(document_group)\n",
    "                        labels.append(label_group)\n",
    "                        queries.append(self.preprocess_sent(self.data_rows[i][QUESTION_INDEX]))\n",
    "\n",
    "                        yield [queries[-1], document_group, label_group][self.type_translator[self.iter_type]]\n",
    "                    else:\n",
    "                        n_filtered_docs += 1\n",
    "\n",
    "                    n_relevant_docs = 0\n",
    "                    document_group = []\n",
    "                    label_group = []\n",
    "\n",
    "            else:\n",
    "                # If we are on the last line\n",
    "                document_group.append(self.preprocess_sent(self.data_rows[i][ANSWER_INDEX]))\n",
    "                label_group.append(int(self.data_rows[i][LABEL_INDEX]))\n",
    "                n_relevant_docs += int(self.data_rows[i][LABEL_INDEX])\n",
    "\n",
    "                if n_relevant_docs > 0:\n",
    "                    docs.append(document_group)\n",
    "                    labels.append(label_group)\n",
    "                    queries.append(self.preprocess_sent(self.data_rows[i][QUESTION_INDEX]))\n",
    "                    yield [queries[-1], document_group, label_group][self.type_translator[self.iter_type]]\n",
    "                else:\n",
    "                    n_filtered_docs += 1\n",
    "                    n_relevant_docs = 0\n"
   ]
  },
  {
   "cell_type": "markdown",
   "metadata": {},
   "source": [
    "Now, will use the class to create objects of the training iterable"
   ]
  },
  {
   "cell_type": "code",
   "execution_count": 4,
   "metadata": {},
   "outputs": [],
   "source": [
    "q_iterable = MyWikiIterable('query', os.path.join( 'experimental_data', 'WikiQACorpus', 'WikiQA-train.tsv'))\n",
    "d_iterable = MyWikiIterable('doc', os.path.join('experimental_data', 'WikiQACorpus', 'WikiQA-train.tsv'))\n",
    "l_iterable = MyWikiIterable('label', os.path.join('experimental_data', 'WikiQACorpus', 'WikiQA-train.tsv'))"
   ]
  },
  {
   "cell_type": "markdown",
   "metadata": {},
   "source": [
    "We will also initialize some validation iterables\n",
    "Note: the path has `dev` in it"
   ]
  },
  {
   "cell_type": "code",
   "execution_count": 5,
   "metadata": {},
   "outputs": [],
   "source": [
    "q_val_iterable = MyWikiIterable('query', os.path.join( 'experimental_data', 'WikiQACorpus', 'WikiQA-dev.tsv'))\n",
    "d_val_iterable = MyWikiIterable('doc', os.path.join('experimental_data', 'WikiQACorpus', 'WikiQA-dev.tsv'))\n",
    "l_val_iterable = MyWikiIterable('label', os.path.join('experimental_data', 'WikiQACorpus', 'WikiQA-dev.tsv'))"
   ]
  },
  {
   "cell_type": "markdown",
   "metadata": {},
   "source": [
    "# Using word embeddings\n",
    "We also need to get the word embeddings for the training. For this, we will use the Glove Embeddings.\n",
    "Luckily, [gensim-data](https://github.com/RaRe-Technologies/gensim-data) provides an easy interface for it.\n",
    "\n",
    "We will use the [KeyedVectors](https://radimrehurek.com/gensim/models/keyedvectors.html) object that we for from gensim-data api and pass it as the `word_embedding` parameter in the model."
   ]
  },
  {
   "cell_type": "code",
   "execution_count": 7,
   "metadata": {},
   "outputs": [
    {
     "name": "stderr",
     "output_type": "stream",
     "text": [
      "2018-07-02 17:01:33,148 : INFO : loading projection weights from /home/aneeshj/gensim-data/glove-wiki-gigaword-50/glove-wiki-gigaword-50.gz\n",
      "2018-07-02 17:01:54,105 : INFO : loaded (400000, 50) matrix from /home/aneeshj/gensim-data/glove-wiki-gigaword-50/glove-wiki-gigaword-50.gz\n"
     ]
    }
   ],
   "source": [
    "import gensim.downloader as api\n",
    "kv_model = api.load(\"glove-wiki-gigaword-50\")"
   ]
  },
  {
   "cell_type": "markdown",
   "metadata": {},
   "source": [
    "# Training the Model\n",
    "Now that we have the preprocessed extracted data and word embeddings, training the model just takes one line:"
   ]
  },
  {
   "cell_type": "code",
   "execution_count": 9,
   "metadata": {},
   "outputs": [
    {
     "name": "stderr",
     "output_type": "stream",
     "text": [
      "2018-07-02 17:02:31,326 : INFO : Starting Vocab Build\n",
      "2018-07-02 17:02:32,988 : INFO : Vocab Build Complete\n",
      "2018-07-02 17:02:32,988 : INFO : Vocab Size is 18814\n",
      "2018-07-02 17:02:32,989 : INFO : Building embedding index using KeyedVector pretrained word embeddings\n",
      "2018-07-02 17:02:32,990 : INFO : The embeddings_index built from the given file has 400000 words of 50 dimensions\n",
      "2018-07-02 17:02:32,990 : INFO : Building the Embedding Matrix for the model's Embedding Layer\n",
      "2018-07-02 17:02:33,086 : INFO : There are 642 words out of 18814 (3.41%) not in the embeddings. Setting them to random\n",
      "2018-07-02 17:02:33,086 : INFO : Adding additional words from the embedding file to embedding matrix\n",
      "2018-07-02 17:02:34,147 : INFO : Normalizing the word embeddings\n",
      "2018-07-02 17:02:34,355 : INFO : Embedding Matrix build complete. It now has shape (400644, 50)\n",
      "2018-07-02 17:02:34,356 : INFO : Pad word has been set to index 400642\n",
      "2018-07-02 17:02:34,356 : INFO : Unknown word has been set to index 400643\n",
      "2018-07-02 17:02:34,357 : INFO : Embedding index build complete\n",
      "2018-07-02 17:02:34,386 : INFO : Input is an iterable amd will be streamed\n",
      "2018-07-02 17:02:34,849 : INFO : __________________________________________________________________________________________________\n",
      "2018-07-02 17:02:34,850 : INFO : Layer (type)                    Output Shape         Param #     Connected to                     \n",
      "2018-07-02 17:02:34,851 : INFO : ==================================================================================================\n",
      "2018-07-02 17:02:34,851 : INFO : query (InputLayer)              (None, 200)          0                                            \n",
      "2018-07-02 17:02:34,854 : INFO : __________________________________________________________________________________________________\n",
      "2018-07-02 17:02:34,855 : INFO : doc (InputLayer)                (None, 200)          0                                            \n",
      "2018-07-02 17:02:34,856 : INFO : __________________________________________________________________________________________________\n",
      "2018-07-02 17:02:34,857 : INFO : embedding_2 (Embedding)         (None, 200, 50)      20032200    query[0][0]                      \n",
      "2018-07-02 17:02:34,858 : INFO :                                                                  doc[0][0]                        \n",
      "2018-07-02 17:02:34,858 : INFO : __________________________________________________________________________________________________\n",
      "2018-07-02 17:02:34,859 : INFO : dot_3 (Dot)                     (None, 200, 200)     0           embedding_2[0][0]                \n",
      "2018-07-02 17:02:34,860 : INFO :                                                                  embedding_2[1][0]                \n",
      "2018-07-02 17:02:34,861 : INFO : __________________________________________________________________________________________________\n",
      "2018-07-02 17:02:34,862 : INFO : top_k_layer_2 (TopKLayer)       (None, 200, 50)      0           dot_3[0][0]                      \n",
      "2018-07-02 17:02:34,863 : INFO : __________________________________________________________________________________________________\n",
      "2018-07-02 17:02:34,864 : INFO : dense_5 (Dense)                 (None, 200, 100)     5100        top_k_layer_2[0][0]              \n",
      "2018-07-02 17:02:34,865 : INFO : __________________________________________________________________________________________________\n",
      "2018-07-02 17:02:34,867 : INFO : dense_6 (Dense)                 (None, 200, 1)       101         dense_5[0][0]                    \n",
      "2018-07-02 17:02:34,874 : INFO : __________________________________________________________________________________________________\n",
      "2018-07-02 17:02:34,875 : INFO : dropout_2 (Dropout)             (None, 200, 1)       0           dense_6[0][0]                    \n",
      "2018-07-02 17:02:34,877 : INFO : __________________________________________________________________________________________________\n",
      "2018-07-02 17:02:34,878 : INFO : dense_4 (Dense)                 (None, 200, 1)       51          embedding_2[0][0]                \n",
      "2018-07-02 17:02:34,880 : INFO : __________________________________________________________________________________________________\n",
      "2018-07-02 17:02:34,882 : INFO : reshape_5 (Reshape)             (None, 200)          0           dropout_2[0][0]                  \n",
      "2018-07-02 17:02:34,884 : INFO : __________________________________________________________________________________________________\n",
      "2018-07-02 17:02:34,886 : INFO : reshape_4 (Reshape)             (None, 200)          0           dense_4[0][0]                    \n",
      "2018-07-02 17:02:34,887 : INFO : __________________________________________________________________________________________________\n",
      "2018-07-02 17:02:34,888 : INFO : dot_4 (Dot)                     (None, 1)            0           reshape_5[0][0]                  \n",
      "2018-07-02 17:02:34,889 : INFO :                                                                  reshape_4[0][0]                  \n",
      "2018-07-02 17:02:34,890 : INFO : __________________________________________________________________________________________________\n",
      "2018-07-02 17:02:34,891 : INFO : reshape_6 (Reshape)             (None, 1)            0           dot_4[0][0]                      \n",
      "2018-07-02 17:02:34,892 : INFO : ==================================================================================================\n",
      "2018-07-02 17:02:34,893 : INFO : Total params: 20,037,452\n",
      "2018-07-02 17:02:34,893 : INFO : Trainable params: 5,252\n",
      "2018-07-02 17:02:34,894 : INFO : Non-trainable params: 20,032,200\n",
      "2018-07-02 17:02:34,895 : INFO : __________________________________________________________________________________________________\n",
      "2018-07-02 17:02:35,224 : INFO : Found 14 unknown words. Set them to unknown word index : 400643\n",
      "2018-07-02 17:02:35,259 : INFO : Found 90 unknown words. Set them to unknown word index : 400643\n"
     ]
    },
    {
     "name": "stdout",
     "output_type": "stream",
     "text": [
      "Epoch 1/50\n",
      "281/281 [==============================] - 10s 35ms/step - loss: 0.2521 - acc: 0.5288\n"
     ]
    },
    {
     "name": "stderr",
     "output_type": "stream",
     "text": [
      "2018-07-02 17:02:46,794 : INFO : MAP: 0.53\n",
      "2018-07-02 17:02:46,800 : INFO : nDCG@1 : 0.35\n",
      "2018-07-02 17:02:46,805 : INFO : nDCG@3 : 0.51\n",
      "2018-07-02 17:02:46,812 : INFO : nDCG@5 : 0.59\n",
      "2018-07-02 17:02:46,819 : INFO : nDCG@10 : 0.64\n",
      "2018-07-02 17:02:46,831 : INFO : nDCG@20 : 0.65\n"
     ]
    },
    {
     "name": "stdout",
     "output_type": "stream",
     "text": [
      "Epoch 2/50\n",
      "281/281 [==============================] - 10s 34ms/step - loss: 0.2443 - acc: 0.5601\n"
     ]
    },
    {
     "name": "stderr",
     "output_type": "stream",
     "text": [
      "2018-07-02 17:02:57,741 : INFO : MAP: 0.52\n",
      "2018-07-02 17:02:57,746 : INFO : nDCG@1 : 0.35\n",
      "2018-07-02 17:02:57,752 : INFO : nDCG@3 : 0.50\n",
      "2018-07-02 17:02:57,758 : INFO : nDCG@5 : 0.58\n",
      "2018-07-02 17:02:57,768 : INFO : nDCG@10 : 0.63\n",
      "2018-07-02 17:02:57,779 : INFO : nDCG@20 : 0.65\n"
     ]
    },
    {
     "name": "stdout",
     "output_type": "stream",
     "text": [
      "Epoch 3/50\n",
      "281/281 [==============================] - 10s 34ms/step - loss: 0.2473 - acc: 0.5584\n"
     ]
    },
    {
     "name": "stderr",
     "output_type": "stream",
     "text": [
      "2018-07-02 17:03:08,786 : INFO : MAP: 0.54\n",
      "2018-07-02 17:03:08,792 : INFO : nDCG@1 : 0.37\n",
      "2018-07-02 17:03:08,798 : INFO : nDCG@3 : 0.53\n",
      "2018-07-02 17:03:08,807 : INFO : nDCG@5 : 0.59\n",
      "2018-07-02 17:03:08,816 : INFO : nDCG@10 : 0.65\n",
      "2018-07-02 17:03:08,822 : INFO : nDCG@20 : 0.66\n"
     ]
    },
    {
     "name": "stdout",
     "output_type": "stream",
     "text": [
      "Epoch 4/50\n",
      "281/281 [==============================] - 10s 34ms/step - loss: 0.2434 - acc: 0.5701\n"
     ]
    },
    {
     "name": "stderr",
     "output_type": "stream",
     "text": [
      "2018-07-02 17:03:19,873 : INFO : MAP: 0.55\n",
      "2018-07-02 17:03:19,879 : INFO : nDCG@1 : 0.37\n",
      "2018-07-02 17:03:19,887 : INFO : nDCG@3 : 0.55\n",
      "2018-07-02 17:03:19,898 : INFO : nDCG@5 : 0.61\n",
      "2018-07-02 17:03:19,904 : INFO : nDCG@10 : 0.66\n",
      "2018-07-02 17:03:19,915 : INFO : nDCG@20 : 0.67\n"
     ]
    },
    {
     "name": "stdout",
     "output_type": "stream",
     "text": [
      "Epoch 5/50\n",
      "281/281 [==============================] - 10s 34ms/step - loss: 0.2468 - acc: 0.5552\n"
     ]
    },
    {
     "name": "stderr",
     "output_type": "stream",
     "text": [
      "2018-07-02 17:03:30,879 : INFO : MAP: 0.55\n",
      "2018-07-02 17:03:30,885 : INFO : nDCG@1 : 0.38\n",
      "2018-07-02 17:03:30,890 : INFO : nDCG@3 : 0.55\n",
      "2018-07-02 17:03:30,903 : INFO : nDCG@5 : 0.62\n",
      "2018-07-02 17:03:30,911 : INFO : nDCG@10 : 0.66\n",
      "2018-07-02 17:03:30,919 : INFO : nDCG@20 : 0.67\n"
     ]
    },
    {
     "name": "stdout",
     "output_type": "stream",
     "text": [
      "Epoch 6/50\n",
      "281/281 [==============================] - 10s 34ms/step - loss: 0.2455 - acc: 0.5671\n"
     ]
    },
    {
     "name": "stderr",
     "output_type": "stream",
     "text": [
      "2018-07-02 17:03:41,962 : INFO : MAP: 0.56\n",
      "2018-07-02 17:03:41,968 : INFO : nDCG@1 : 0.40\n",
      "2018-07-02 17:03:41,976 : INFO : nDCG@3 : 0.56\n",
      "2018-07-02 17:03:41,983 : INFO : nDCG@5 : 0.62\n",
      "2018-07-02 17:03:41,997 : INFO : nDCG@10 : 0.67\n",
      "2018-07-02 17:03:42,004 : INFO : nDCG@20 : 0.68\n"
     ]
    },
    {
     "name": "stdout",
     "output_type": "stream",
     "text": [
      "Epoch 7/50\n",
      "281/281 [==============================] - 10s 35ms/step - loss: 0.2419 - acc: 0.5769\n"
     ]
    },
    {
     "name": "stderr",
     "output_type": "stream",
     "text": [
      "2018-07-02 17:03:53,134 : INFO : MAP: 0.56\n",
      "2018-07-02 17:03:53,139 : INFO : nDCG@1 : 0.40\n",
      "2018-07-02 17:03:53,146 : INFO : nDCG@3 : 0.56\n",
      "2018-07-02 17:03:53,154 : INFO : nDCG@5 : 0.63\n",
      "2018-07-02 17:03:53,159 : INFO : nDCG@10 : 0.67\n",
      "2018-07-02 17:03:53,164 : INFO : nDCG@20 : 0.68\n"
     ]
    },
    {
     "name": "stdout",
     "output_type": "stream",
     "text": [
      "Epoch 8/50\n",
      "281/281 [==============================] - 10s 34ms/step - loss: 0.2458 - acc: 0.5577\n"
     ]
    },
    {
     "name": "stderr",
     "output_type": "stream",
     "text": [
      "2018-07-02 17:04:04,174 : INFO : MAP: 0.55\n",
      "2018-07-02 17:04:04,180 : INFO : nDCG@1 : 0.37\n",
      "2018-07-02 17:04:04,191 : INFO : nDCG@3 : 0.55\n",
      "2018-07-02 17:04:04,201 : INFO : nDCG@5 : 0.62\n",
      "2018-07-02 17:04:04,211 : INFO : nDCG@10 : 0.66\n",
      "2018-07-02 17:04:04,223 : INFO : nDCG@20 : 0.67\n"
     ]
    },
    {
     "name": "stdout",
     "output_type": "stream",
     "text": [
      "Epoch 9/50\n",
      "281/281 [==============================] - 10s 35ms/step - loss: 0.2466 - acc: 0.5662\n"
     ]
    },
    {
     "name": "stderr",
     "output_type": "stream",
     "text": [
      "2018-07-02 17:04:15,513 : INFO : MAP: 0.56\n",
      "2018-07-02 17:04:15,519 : INFO : nDCG@1 : 0.39\n",
      "2018-07-02 17:04:15,524 : INFO : nDCG@3 : 0.56\n",
      "2018-07-02 17:04:15,532 : INFO : nDCG@5 : 0.62\n",
      "2018-07-02 17:04:15,540 : INFO : nDCG@10 : 0.67\n",
      "2018-07-02 17:04:15,548 : INFO : nDCG@20 : 0.68\n"
     ]
    },
    {
     "name": "stdout",
     "output_type": "stream",
     "text": [
      "Epoch 10/50\n",
      "281/281 [==============================] - 10s 36ms/step - loss: 0.2399 - acc: 0.5952\n"
     ]
    },
    {
     "name": "stderr",
     "output_type": "stream",
     "text": [
      "2018-07-02 17:04:26,984 : INFO : MAP: 0.58\n",
      "2018-07-02 17:04:26,990 : INFO : nDCG@1 : 0.42\n",
      "2018-07-02 17:04:26,996 : INFO : nDCG@3 : 0.57\n",
      "2018-07-02 17:04:27,003 : INFO : nDCG@5 : 0.64\n",
      "2018-07-02 17:04:27,009 : INFO : nDCG@10 : 0.68\n",
      "2018-07-02 17:04:27,018 : INFO : nDCG@20 : 0.69\n"
     ]
    },
    {
     "name": "stdout",
     "output_type": "stream",
     "text": [
      "Epoch 11/50\n",
      "281/281 [==============================] - 10s 37ms/step - loss: 0.2463 - acc: 0.5596\n"
     ]
    },
    {
     "name": "stderr",
     "output_type": "stream",
     "text": [
      "2018-07-02 17:04:38,755 : INFO : MAP: 0.57\n",
      "2018-07-02 17:04:38,761 : INFO : nDCG@1 : 0.40\n",
      "2018-07-02 17:04:38,768 : INFO : nDCG@3 : 0.57\n",
      "2018-07-02 17:04:38,778 : INFO : nDCG@5 : 0.64\n",
      "2018-07-02 17:04:38,785 : INFO : nDCG@10 : 0.68\n",
      "2018-07-02 17:04:38,792 : INFO : nDCG@20 : 0.69\n"
     ]
    },
    {
     "name": "stdout",
     "output_type": "stream",
     "text": [
      "Epoch 12/50\n",
      "281/281 [==============================] - 10s 34ms/step - loss: 0.2432 - acc: 0.5646\n"
     ]
    },
    {
     "name": "stderr",
     "output_type": "stream",
     "text": [
      "2018-07-02 17:04:49,729 : INFO : MAP: 0.58\n",
      "2018-07-02 17:04:49,736 : INFO : nDCG@1 : 0.41\n",
      "2018-07-02 17:04:49,744 : INFO : nDCG@3 : 0.57\n",
      "2018-07-02 17:04:49,753 : INFO : nDCG@5 : 0.64\n",
      "2018-07-02 17:04:49,762 : INFO : nDCG@10 : 0.68\n",
      "2018-07-02 17:04:49,771 : INFO : nDCG@20 : 0.69\n"
     ]
    },
    {
     "name": "stdout",
     "output_type": "stream",
     "text": [
      "Epoch 13/50\n",
      "281/281 [==============================] - 10s 35ms/step - loss: 0.2393 - acc: 0.5931\n"
     ]
    },
    {
     "name": "stderr",
     "output_type": "stream",
     "text": [
      "2018-07-02 17:05:01,035 : INFO : MAP: 0.59\n",
      "2018-07-02 17:05:01,040 : INFO : nDCG@1 : 0.43\n",
      "2018-07-02 17:05:01,046 : INFO : nDCG@3 : 0.58\n",
      "2018-07-02 17:05:01,055 : INFO : nDCG@5 : 0.65\n",
      "2018-07-02 17:05:01,068 : INFO : nDCG@10 : 0.69\n",
      "2018-07-02 17:05:01,077 : INFO : nDCG@20 : 0.70\n"
     ]
    },
    {
     "name": "stdout",
     "output_type": "stream",
     "text": [
      "Epoch 14/50\n",
      "281/281 [==============================] - 10s 34ms/step - loss: 0.2464 - acc: 0.5577\n"
     ]
    },
    {
     "name": "stderr",
     "output_type": "stream",
     "text": [
      "2018-07-02 17:05:12,020 : INFO : MAP: 0.58\n",
      "2018-07-02 17:05:12,025 : INFO : nDCG@1 : 0.42\n",
      "2018-07-02 17:05:12,033 : INFO : nDCG@3 : 0.58\n",
      "2018-07-02 17:05:12,044 : INFO : nDCG@5 : 0.65\n",
      "2018-07-02 17:05:12,051 : INFO : nDCG@10 : 0.68\n",
      "2018-07-02 17:05:12,061 : INFO : nDCG@20 : 0.70\n"
     ]
    },
    {
     "name": "stdout",
     "output_type": "stream",
     "text": [
      "Epoch 15/50\n",
      "281/281 [==============================] - 10s 34ms/step - loss: 0.2411 - acc: 0.5856\n"
     ]
    },
    {
     "name": "stderr",
     "output_type": "stream",
     "text": [
      "2018-07-02 17:05:23,054 : INFO : MAP: 0.58\n",
      "2018-07-02 17:05:23,060 : INFO : nDCG@1 : 0.41\n",
      "2018-07-02 17:05:23,070 : INFO : nDCG@3 : 0.58\n",
      "2018-07-02 17:05:23,078 : INFO : nDCG@5 : 0.64\n",
      "2018-07-02 17:05:23,086 : INFO : nDCG@10 : 0.68\n",
      "2018-07-02 17:05:23,092 : INFO : nDCG@20 : 0.69\n"
     ]
    },
    {
     "name": "stdout",
     "output_type": "stream",
     "text": [
      "Epoch 16/50\n",
      "281/281 [==============================] - 10s 35ms/step - loss: 0.2413 - acc: 0.5909\n"
     ]
    },
    {
     "name": "stderr",
     "output_type": "stream",
     "text": [
      "2018-07-02 17:05:34,190 : INFO : MAP: 0.58\n",
      "2018-07-02 17:05:34,196 : INFO : nDCG@1 : 0.42\n",
      "2018-07-02 17:05:34,205 : INFO : nDCG@3 : 0.58\n",
      "2018-07-02 17:05:34,212 : INFO : nDCG@5 : 0.65\n",
      "2018-07-02 17:05:34,223 : INFO : nDCG@10 : 0.68\n",
      "2018-07-02 17:05:34,229 : INFO : nDCG@20 : 0.70\n"
     ]
    },
    {
     "name": "stdout",
     "output_type": "stream",
     "text": [
      "Epoch 17/50\n",
      "281/281 [==============================] - 10s 34ms/step - loss: 0.2440 - acc: 0.5779\n"
     ]
    },
    {
     "name": "stderr",
     "output_type": "stream",
     "text": [
      "2018-07-02 17:05:45,244 : INFO : MAP: 0.58\n",
      "2018-07-02 17:05:45,249 : INFO : nDCG@1 : 0.41\n",
      "2018-07-02 17:05:45,257 : INFO : nDCG@3 : 0.59\n",
      "2018-07-02 17:05:45,263 : INFO : nDCG@5 : 0.65\n",
      "2018-07-02 17:05:45,269 : INFO : nDCG@10 : 0.68\n",
      "2018-07-02 17:05:45,276 : INFO : nDCG@20 : 0.70\n"
     ]
    },
    {
     "name": "stdout",
     "output_type": "stream",
     "text": [
      "Epoch 18/50\n",
      "281/281 [==============================] - 10s 34ms/step - loss: 0.2403 - acc: 0.5925\n"
     ]
    },
    {
     "name": "stderr",
     "output_type": "stream",
     "text": [
      "2018-07-02 17:05:56,201 : INFO : MAP: 0.58\n",
      "2018-07-02 17:05:56,206 : INFO : nDCG@1 : 0.41\n",
      "2018-07-02 17:05:56,213 : INFO : nDCG@3 : 0.58\n",
      "2018-07-02 17:05:56,223 : INFO : nDCG@5 : 0.65\n",
      "2018-07-02 17:05:56,233 : INFO : nDCG@10 : 0.68\n",
      "2018-07-02 17:05:56,241 : INFO : nDCG@20 : 0.69\n"
     ]
    },
    {
     "name": "stdout",
     "output_type": "stream",
     "text": [
      "Epoch 19/50\n",
      "281/281 [==============================] - 11s 41ms/step - loss: 0.2446 - acc: 0.5728\n"
     ]
    },
    {
     "name": "stderr",
     "output_type": "stream",
     "text": [
      "2018-07-02 17:06:09,266 : INFO : MAP: 0.59\n",
      "2018-07-02 17:06:09,275 : INFO : nDCG@1 : 0.42\n",
      "2018-07-02 17:06:09,284 : INFO : nDCG@3 : 0.59\n",
      "2018-07-02 17:06:09,296 : INFO : nDCG@5 : 0.65\n",
      "2018-07-02 17:06:09,306 : INFO : nDCG@10 : 0.68\n",
      "2018-07-02 17:06:09,320 : INFO : nDCG@20 : 0.70\n"
     ]
    },
    {
     "name": "stdout",
     "output_type": "stream",
     "text": [
      "Epoch 20/50\n",
      "281/281 [==============================] - 10s 37ms/step - loss: 0.2412 - acc: 0.5827\n"
     ]
    },
    {
     "name": "stderr",
     "output_type": "stream",
     "text": [
      "2018-07-02 17:06:21,150 : INFO : MAP: 0.59\n",
      "2018-07-02 17:06:21,155 : INFO : nDCG@1 : 0.42\n",
      "2018-07-02 17:06:21,160 : INFO : nDCG@3 : 0.59\n",
      "2018-07-02 17:06:21,167 : INFO : nDCG@5 : 0.65\n",
      "2018-07-02 17:06:21,178 : INFO : nDCG@10 : 0.68\n",
      "2018-07-02 17:06:21,185 : INFO : nDCG@20 : 0.70\n"
     ]
    },
    {
     "name": "stdout",
     "output_type": "stream",
     "text": [
      "Epoch 21/50\n",
      "281/281 [==============================] - 10s 34ms/step - loss: 0.2437 - acc: 0.5749\n"
     ]
    },
    {
     "name": "stderr",
     "output_type": "stream",
     "text": [
      "2018-07-02 17:06:32,158 : INFO : MAP: 0.58\n",
      "2018-07-02 17:06:32,164 : INFO : nDCG@1 : 0.40\n",
      "2018-07-02 17:06:32,170 : INFO : nDCG@3 : 0.58\n",
      "2018-07-02 17:06:32,180 : INFO : nDCG@5 : 0.64\n",
      "2018-07-02 17:06:32,187 : INFO : nDCG@10 : 0.68\n",
      "2018-07-02 17:06:32,196 : INFO : nDCG@20 : 0.69\n"
     ]
    },
    {
     "name": "stdout",
     "output_type": "stream",
     "text": [
      "Epoch 22/50\n",
      "281/281 [==============================] - 10s 34ms/step - loss: 0.2425 - acc: 0.5797\n"
     ]
    },
    {
     "name": "stderr",
     "output_type": "stream",
     "text": [
      "2018-07-02 17:06:43,211 : INFO : MAP: 0.59\n",
      "2018-07-02 17:06:43,217 : INFO : nDCG@1 : 0.41\n",
      "2018-07-02 17:06:43,222 : INFO : nDCG@3 : 0.59\n",
      "2018-07-02 17:06:43,231 : INFO : nDCG@5 : 0.65\n",
      "2018-07-02 17:06:43,240 : INFO : nDCG@10 : 0.68\n",
      "2018-07-02 17:06:43,247 : INFO : nDCG@20 : 0.70\n"
     ]
    },
    {
     "name": "stdout",
     "output_type": "stream",
     "text": [
      "Epoch 23/50\n",
      "281/281 [==============================] - 11s 38ms/step - loss: 0.2390 - acc: 0.6009\n"
     ]
    },
    {
     "name": "stderr",
     "output_type": "stream",
     "text": [
      "2018-07-02 17:06:55,304 : INFO : MAP: 0.59\n",
      "2018-07-02 17:06:55,310 : INFO : nDCG@1 : 0.42\n",
      "2018-07-02 17:06:55,315 : INFO : nDCG@3 : 0.59\n",
      "2018-07-02 17:06:55,321 : INFO : nDCG@5 : 0.65\n",
      "2018-07-02 17:06:55,331 : INFO : nDCG@10 : 0.69\n",
      "2018-07-02 17:06:55,340 : INFO : nDCG@20 : 0.70\n"
     ]
    },
    {
     "name": "stdout",
     "output_type": "stream",
     "text": [
      "Epoch 24/50\n",
      "281/281 [==============================] - 10s 35ms/step - loss: 0.2432 - acc: 0.5769\n"
     ]
    },
    {
     "name": "stderr",
     "output_type": "stream",
     "text": [
      "2018-07-02 17:07:06,605 : INFO : MAP: 0.58\n",
      "2018-07-02 17:07:06,609 : INFO : nDCG@1 : 0.40\n",
      "2018-07-02 17:07:06,615 : INFO : nDCG@3 : 0.58\n",
      "2018-07-02 17:07:06,626 : INFO : nDCG@5 : 0.64\n",
      "2018-07-02 17:07:06,632 : INFO : nDCG@10 : 0.68\n",
      "2018-07-02 17:07:06,638 : INFO : nDCG@20 : 0.69\n"
     ]
    },
    {
     "name": "stdout",
     "output_type": "stream",
     "text": [
      "Epoch 25/50\n",
      "281/281 [==============================] - 10s 35ms/step - loss: 0.2438 - acc: 0.5730\n"
     ]
    },
    {
     "name": "stderr",
     "output_type": "stream",
     "text": [
      "2018-07-02 17:07:17,857 : INFO : MAP: 0.59\n",
      "2018-07-02 17:07:17,863 : INFO : nDCG@1 : 0.42\n",
      "2018-07-02 17:07:17,869 : INFO : nDCG@3 : 0.59\n",
      "2018-07-02 17:07:17,876 : INFO : nDCG@5 : 0.66\n",
      "2018-07-02 17:07:17,885 : INFO : nDCG@10 : 0.68\n",
      "2018-07-02 17:07:17,895 : INFO : nDCG@20 : 0.70\n"
     ]
    },
    {
     "name": "stdout",
     "output_type": "stream",
     "text": [
      "Epoch 26/50\n",
      "281/281 [==============================] - 10s 36ms/step - loss: 0.2399 - acc: 0.5979\n"
     ]
    },
    {
     "name": "stderr",
     "output_type": "stream",
     "text": [
      "2018-07-02 17:07:29,435 : INFO : MAP: 0.59\n",
      "2018-07-02 17:07:29,444 : INFO : nDCG@1 : 0.42\n",
      "2018-07-02 17:07:29,453 : INFO : nDCG@3 : 0.59\n",
      "2018-07-02 17:07:29,463 : INFO : nDCG@5 : 0.65\n",
      "2018-07-02 17:07:29,470 : INFO : nDCG@10 : 0.69\n",
      "2018-07-02 17:07:29,485 : INFO : nDCG@20 : 0.70\n"
     ]
    },
    {
     "name": "stdout",
     "output_type": "stream",
     "text": [
      "Epoch 27/50\n",
      "281/281 [==============================] - 10s 36ms/step - loss: 0.2441 - acc: 0.5722\n"
     ]
    },
    {
     "name": "stderr",
     "output_type": "stream",
     "text": [
      "2018-07-02 17:07:40,878 : INFO : MAP: 0.60\n",
      "2018-07-02 17:07:40,883 : INFO : nDCG@1 : 0.44\n",
      "2018-07-02 17:07:40,889 : INFO : nDCG@3 : 0.60\n",
      "2018-07-02 17:07:40,899 : INFO : nDCG@5 : 0.66\n",
      "2018-07-02 17:07:40,907 : INFO : nDCG@10 : 0.69\n",
      "2018-07-02 17:07:40,917 : INFO : nDCG@20 : 0.71\n"
     ]
    },
    {
     "name": "stdout",
     "output_type": "stream",
     "text": [
      "Epoch 28/50\n",
      "281/281 [==============================] - 10s 35ms/step - loss: 0.2419 - acc: 0.5717\n"
     ]
    },
    {
     "name": "stderr",
     "output_type": "stream",
     "text": [
      "2018-07-02 17:07:52,083 : INFO : MAP: 0.60\n",
      "2018-07-02 17:07:52,088 : INFO : nDCG@1 : 0.43\n",
      "2018-07-02 17:07:52,095 : INFO : nDCG@3 : 0.60\n",
      "2018-07-02 17:07:52,103 : INFO : nDCG@5 : 0.66\n",
      "2018-07-02 17:07:52,112 : INFO : nDCG@10 : 0.69\n",
      "2018-07-02 17:07:52,123 : INFO : nDCG@20 : 0.71\n"
     ]
    },
    {
     "name": "stdout",
     "output_type": "stream",
     "text": [
      "Epoch 29/50\n",
      "281/281 [==============================] - 10s 37ms/step - loss: 0.2369 - acc: 0.6077\n"
     ]
    },
    {
     "name": "stderr",
     "output_type": "stream",
     "text": [
      "2018-07-02 17:08:04,051 : INFO : MAP: 0.59\n",
      "2018-07-02 17:08:04,057 : INFO : nDCG@1 : 0.42\n",
      "2018-07-02 17:08:04,063 : INFO : nDCG@3 : 0.59\n",
      "2018-07-02 17:08:04,069 : INFO : nDCG@5 : 0.65\n",
      "2018-07-02 17:08:04,074 : INFO : nDCG@10 : 0.68\n",
      "2018-07-02 17:08:04,080 : INFO : nDCG@20 : 0.70\n"
     ]
    },
    {
     "name": "stdout",
     "output_type": "stream",
     "text": [
      "Epoch 30/50\n",
      "281/281 [==============================] - 10s 34ms/step - loss: 0.2430 - acc: 0.5754\n"
     ]
    },
    {
     "name": "stderr",
     "output_type": "stream",
     "text": [
      "2018-07-02 17:08:15,129 : INFO : MAP: 0.60\n",
      "2018-07-02 17:08:15,134 : INFO : nDCG@1 : 0.44\n",
      "2018-07-02 17:08:15,140 : INFO : nDCG@3 : 0.60\n",
      "2018-07-02 17:08:15,145 : INFO : nDCG@5 : 0.67\n",
      "2018-07-02 17:08:15,151 : INFO : nDCG@10 : 0.69\n",
      "2018-07-02 17:08:15,157 : INFO : nDCG@20 : 0.71\n"
     ]
    },
    {
     "name": "stdout",
     "output_type": "stream",
     "text": [
      "Epoch 31/50\n",
      "281/281 [==============================] - 9s 32ms/step - loss: 0.2403 - acc: 0.5900\n"
     ]
    },
    {
     "name": "stderr",
     "output_type": "stream",
     "text": [
      "2018-07-02 17:08:25,495 : INFO : MAP: 0.60\n",
      "2018-07-02 17:08:25,502 : INFO : nDCG@1 : 0.44\n",
      "2018-07-02 17:08:25,507 : INFO : nDCG@3 : 0.60\n",
      "2018-07-02 17:08:25,512 : INFO : nDCG@5 : 0.66\n",
      "2018-07-02 17:08:25,518 : INFO : nDCG@10 : 0.69\n",
      "2018-07-02 17:08:25,523 : INFO : nDCG@20 : 0.71\n"
     ]
    },
    {
     "name": "stdout",
     "output_type": "stream",
     "text": [
      "Epoch 32/50\n",
      "281/281 [==============================] - 10s 34ms/step - loss: 0.2378 - acc: 0.5984\n"
     ]
    },
    {
     "name": "stderr",
     "output_type": "stream",
     "text": [
      "2018-07-02 17:08:36,708 : INFO : MAP: 0.59\n",
      "2018-07-02 17:08:36,716 : INFO : nDCG@1 : 0.42\n",
      "2018-07-02 17:08:36,723 : INFO : nDCG@3 : 0.59\n",
      "2018-07-02 17:08:36,730 : INFO : nDCG@5 : 0.65\n",
      "2018-07-02 17:08:36,737 : INFO : nDCG@10 : 0.68\n",
      "2018-07-02 17:08:36,745 : INFO : nDCG@20 : 0.70\n"
     ]
    },
    {
     "name": "stdout",
     "output_type": "stream",
     "text": [
      "Epoch 33/50\n",
      "281/281 [==============================] - 10s 37ms/step - loss: 0.2442 - acc: 0.5792\n"
     ]
    },
    {
     "name": "stderr",
     "output_type": "stream",
     "text": [
      "2018-07-02 17:08:48,990 : INFO : MAP: 0.60\n",
      "2018-07-02 17:08:48,996 : INFO : nDCG@1 : 0.44\n",
      "2018-07-02 17:08:49,002 : INFO : nDCG@3 : 0.60\n",
      "2018-07-02 17:08:49,011 : INFO : nDCG@5 : 0.67\n",
      "2018-07-02 17:08:49,018 : INFO : nDCG@10 : 0.69\n",
      "2018-07-02 17:08:49,026 : INFO : nDCG@20 : 0.71\n"
     ]
    },
    {
     "name": "stdout",
     "output_type": "stream",
     "text": [
      "Epoch 34/50\n",
      "281/281 [==============================] - 12s 41ms/step - loss: 0.2377 - acc: 0.5998\n"
     ]
    },
    {
     "name": "stderr",
     "output_type": "stream",
     "text": [
      "2018-07-02 17:09:02,464 : INFO : MAP: 0.60\n",
      "2018-07-02 17:09:02,474 : INFO : nDCG@1 : 0.44\n",
      "2018-07-02 17:09:02,485 : INFO : nDCG@3 : 0.60\n",
      "2018-07-02 17:09:02,491 : INFO : nDCG@5 : 0.66\n",
      "2018-07-02 17:09:02,500 : INFO : nDCG@10 : 0.69\n",
      "2018-07-02 17:09:02,506 : INFO : nDCG@20 : 0.71\n"
     ]
    },
    {
     "name": "stdout",
     "output_type": "stream",
     "text": [
      "Epoch 35/50\n",
      "281/281 [==============================] - 14s 48ms/step - loss: 0.2388 - acc: 0.6005\n"
     ]
    },
    {
     "name": "stderr",
     "output_type": "stream",
     "text": [
      "2018-07-02 17:09:18,137 : INFO : MAP: 0.60\n",
      "2018-07-02 17:09:18,156 : INFO : nDCG@1 : 0.44\n",
      "2018-07-02 17:09:18,166 : INFO : nDCG@3 : 0.59\n",
      "2018-07-02 17:09:18,174 : INFO : nDCG@5 : 0.66\n",
      "2018-07-02 17:09:18,181 : INFO : nDCG@10 : 0.69\n",
      "2018-07-02 17:09:18,192 : INFO : nDCG@20 : 0.71\n"
     ]
    },
    {
     "name": "stdout",
     "output_type": "stream",
     "text": [
      "Epoch 36/50\n",
      "281/281 [==============================] - 13s 45ms/step - loss: 0.2411 - acc: 0.5886\n"
     ]
    },
    {
     "name": "stderr",
     "output_type": "stream",
     "text": [
      "2018-07-02 17:09:32,542 : INFO : MAP: 0.60\n",
      "2018-07-02 17:09:32,548 : INFO : nDCG@1 : 0.44\n",
      "2018-07-02 17:09:32,554 : INFO : nDCG@3 : 0.59\n",
      "2018-07-02 17:09:32,560 : INFO : nDCG@5 : 0.67\n",
      "2018-07-02 17:09:32,569 : INFO : nDCG@10 : 0.69\n",
      "2018-07-02 17:09:32,583 : INFO : nDCG@20 : 0.71\n"
     ]
    },
    {
     "name": "stdout",
     "output_type": "stream",
     "text": [
      "Epoch 37/50\n",
      "281/281 [==============================] - 10s 34ms/step - loss: 0.2437 - acc: 0.5820\n"
     ]
    },
    {
     "name": "stderr",
     "output_type": "stream",
     "text": [
      "2018-07-02 17:09:43,597 : INFO : MAP: 0.59\n",
      "2018-07-02 17:09:43,603 : INFO : nDCG@1 : 0.43\n",
      "2018-07-02 17:09:43,609 : INFO : nDCG@3 : 0.60\n",
      "2018-07-02 17:09:43,616 : INFO : nDCG@5 : 0.66\n",
      "2018-07-02 17:09:43,622 : INFO : nDCG@10 : 0.69\n",
      "2018-07-02 17:09:43,628 : INFO : nDCG@20 : 0.70\n"
     ]
    },
    {
     "name": "stdout",
     "output_type": "stream",
     "text": [
      "Epoch 38/50\n",
      "281/281 [==============================] - 9s 33ms/step - loss: 0.2394 - acc: 0.5952\n"
     ]
    },
    {
     "name": "stderr",
     "output_type": "stream",
     "text": [
      "2018-07-02 17:09:54,747 : INFO : MAP: 0.59\n",
      "2018-07-02 17:09:54,753 : INFO : nDCG@1 : 0.42\n",
      "2018-07-02 17:09:54,759 : INFO : nDCG@3 : 0.59\n",
      "2018-07-02 17:09:54,768 : INFO : nDCG@5 : 0.66\n",
      "2018-07-02 17:09:54,773 : INFO : nDCG@10 : 0.68\n",
      "2018-07-02 17:09:54,782 : INFO : nDCG@20 : 0.70\n"
     ]
    },
    {
     "name": "stdout",
     "output_type": "stream",
     "text": [
      "Epoch 39/50\n",
      "281/281 [==============================] - 10s 37ms/step - loss: 0.2372 - acc: 0.5998\n"
     ]
    },
    {
     "name": "stderr",
     "output_type": "stream",
     "text": [
      "2018-07-02 17:10:06,642 : INFO : MAP: 0.60\n",
      "2018-07-02 17:10:06,648 : INFO : nDCG@1 : 0.44\n",
      "2018-07-02 17:10:06,655 : INFO : nDCG@3 : 0.60\n",
      "2018-07-02 17:10:06,661 : INFO : nDCG@5 : 0.66\n",
      "2018-07-02 17:10:06,668 : INFO : nDCG@10 : 0.69\n",
      "2018-07-02 17:10:06,675 : INFO : nDCG@20 : 0.71\n"
     ]
    },
    {
     "name": "stdout",
     "output_type": "stream",
     "text": [
      "Epoch 40/50\n",
      "281/281 [==============================] - 10s 37ms/step - loss: 0.2414 - acc: 0.5849\n"
     ]
    },
    {
     "name": "stderr",
     "output_type": "stream",
     "text": [
      "2018-07-02 17:10:18,674 : INFO : MAP: 0.59\n",
      "2018-07-02 17:10:18,680 : INFO : nDCG@1 : 0.43\n",
      "2018-07-02 17:10:18,689 : INFO : nDCG@3 : 0.60\n",
      "2018-07-02 17:10:18,695 : INFO : nDCG@5 : 0.65\n",
      "2018-07-02 17:10:18,701 : INFO : nDCG@10 : 0.69\n",
      "2018-07-02 17:10:18,707 : INFO : nDCG@20 : 0.70\n"
     ]
    },
    {
     "name": "stdout",
     "output_type": "stream",
     "text": [
      "Epoch 41/50\n",
      "281/281 [==============================] - 9s 34ms/step - loss: 0.2436 - acc: 0.5760\n"
     ]
    },
    {
     "name": "stderr",
     "output_type": "stream",
     "text": [
      "2018-07-02 17:10:29,586 : INFO : MAP: 0.59\n",
      "2018-07-02 17:10:29,593 : INFO : nDCG@1 : 0.42\n",
      "2018-07-02 17:10:29,599 : INFO : nDCG@3 : 0.60\n",
      "2018-07-02 17:10:29,605 : INFO : nDCG@5 : 0.66\n",
      "2018-07-02 17:10:29,613 : INFO : nDCG@10 : 0.69\n",
      "2018-07-02 17:10:29,619 : INFO : nDCG@20 : 0.70\n"
     ]
    },
    {
     "name": "stdout",
     "output_type": "stream",
     "text": [
      "Epoch 42/50\n",
      "281/281 [==============================] - 9s 33ms/step - loss: 0.2369 - acc: 0.6119\n"
     ]
    },
    {
     "name": "stderr",
     "output_type": "stream",
     "text": [
      "2018-07-02 17:10:40,372 : INFO : MAP: 0.59\n",
      "2018-07-02 17:10:40,378 : INFO : nDCG@1 : 0.41\n",
      "2018-07-02 17:10:40,383 : INFO : nDCG@3 : 0.59\n",
      "2018-07-02 17:10:40,389 : INFO : nDCG@5 : 0.65\n",
      "2018-07-02 17:10:40,395 : INFO : nDCG@10 : 0.68\n",
      "2018-07-02 17:10:40,401 : INFO : nDCG@20 : 0.70\n"
     ]
    },
    {
     "name": "stdout",
     "output_type": "stream",
     "text": [
      "Epoch 43/50\n",
      "281/281 [==============================] - 10s 36ms/step - loss: 0.2428 - acc: 0.5822\n"
     ]
    },
    {
     "name": "stderr",
     "output_type": "stream",
     "text": [
      "2018-07-02 17:10:52,265 : INFO : MAP: 0.60\n",
      "2018-07-02 17:10:52,273 : INFO : nDCG@1 : 0.44\n",
      "2018-07-02 17:10:52,279 : INFO : nDCG@3 : 0.60\n",
      "2018-07-02 17:10:52,284 : INFO : nDCG@5 : 0.67\n",
      "2018-07-02 17:10:52,291 : INFO : nDCG@10 : 0.69\n",
      "2018-07-02 17:10:52,297 : INFO : nDCG@20 : 0.71\n"
     ]
    },
    {
     "name": "stdout",
     "output_type": "stream",
     "text": [
      "Epoch 44/50\n",
      "281/281 [==============================] - 11s 40ms/step - loss: 0.2395 - acc: 0.5845\n"
     ]
    },
    {
     "name": "stderr",
     "output_type": "stream",
     "text": [
      "2018-07-02 17:11:04,854 : INFO : MAP: 0.60\n",
      "2018-07-02 17:11:04,859 : INFO : nDCG@1 : 0.44\n",
      "2018-07-02 17:11:04,866 : INFO : nDCG@3 : 0.60\n",
      "2018-07-02 17:11:04,871 : INFO : nDCG@5 : 0.67\n",
      "2018-07-02 17:11:04,877 : INFO : nDCG@10 : 0.69\n",
      "2018-07-02 17:11:04,883 : INFO : nDCG@20 : 0.71\n"
     ]
    },
    {
     "name": "stdout",
     "output_type": "stream",
     "text": [
      "Epoch 45/50\n",
      "281/281 [==============================] - 9s 33ms/step - loss: 0.2359 - acc: 0.6162\n"
     ]
    },
    {
     "name": "stderr",
     "output_type": "stream",
     "text": [
      "2018-07-02 17:11:15,380 : INFO : MAP: 0.59\n",
      "2018-07-02 17:11:15,387 : INFO : nDCG@1 : 0.41\n",
      "2018-07-02 17:11:15,393 : INFO : nDCG@3 : 0.59\n",
      "2018-07-02 17:11:15,399 : INFO : nDCG@5 : 0.65\n",
      "2018-07-02 17:11:15,405 : INFO : nDCG@10 : 0.68\n",
      "2018-07-02 17:11:15,411 : INFO : nDCG@20 : 0.70\n"
     ]
    },
    {
     "name": "stdout",
     "output_type": "stream",
     "text": [
      "Epoch 46/50\n",
      "281/281 [==============================] - 9s 32ms/step - loss: 0.2427 - acc: 0.5760\n"
     ]
    },
    {
     "name": "stderr",
     "output_type": "stream",
     "text": [
      "2018-07-02 17:11:25,810 : INFO : MAP: 0.60\n",
      "2018-07-02 17:11:25,816 : INFO : nDCG@1 : 0.44\n",
      "2018-07-02 17:11:25,822 : INFO : nDCG@3 : 0.60\n",
      "2018-07-02 17:11:25,828 : INFO : nDCG@5 : 0.67\n",
      "2018-07-02 17:11:25,835 : INFO : nDCG@10 : 0.69\n",
      "2018-07-02 17:11:25,840 : INFO : nDCG@20 : 0.71\n"
     ]
    },
    {
     "name": "stdout",
     "output_type": "stream",
     "text": [
      "Epoch 47/50\n",
      "281/281 [==============================] - 9s 33ms/step - loss: 0.2392 - acc: 0.5961\n"
     ]
    },
    {
     "name": "stderr",
     "output_type": "stream",
     "text": [
      "2018-07-02 17:11:36,452 : INFO : MAP: 0.60\n",
      "2018-07-02 17:11:36,457 : INFO : nDCG@1 : 0.43\n",
      "2018-07-02 17:11:36,463 : INFO : nDCG@3 : 0.60\n",
      "2018-07-02 17:11:36,469 : INFO : nDCG@5 : 0.66\n",
      "2018-07-02 17:11:36,474 : INFO : nDCG@10 : 0.69\n",
      "2018-07-02 17:11:36,480 : INFO : nDCG@20 : 0.70\n"
     ]
    },
    {
     "name": "stdout",
     "output_type": "stream",
     "text": [
      "Epoch 48/50\n",
      "281/281 [==============================] - 10s 35ms/step - loss: 0.2361 - acc: 0.6135\n"
     ]
    },
    {
     "name": "stderr",
     "output_type": "stream",
     "text": [
      "2018-07-02 17:11:47,844 : INFO : MAP: 0.59\n",
      "2018-07-02 17:11:47,849 : INFO : nDCG@1 : 0.41\n",
      "2018-07-02 17:11:47,857 : INFO : nDCG@3 : 0.59\n",
      "2018-07-02 17:11:47,863 : INFO : nDCG@5 : 0.65\n",
      "2018-07-02 17:11:47,869 : INFO : nDCG@10 : 0.68\n",
      "2018-07-02 17:11:47,875 : INFO : nDCG@20 : 0.70\n"
     ]
    },
    {
     "name": "stdout",
     "output_type": "stream",
     "text": [
      "Epoch 49/50\n",
      "281/281 [==============================] - 10s 35ms/step - loss: 0.2433 - acc: 0.5783\n"
     ]
    },
    {
     "name": "stderr",
     "output_type": "stream",
     "text": [
      "2018-07-02 17:11:59,266 : INFO : MAP: 0.60\n",
      "2018-07-02 17:11:59,273 : INFO : nDCG@1 : 0.44\n",
      "2018-07-02 17:11:59,281 : INFO : nDCG@3 : 0.61\n",
      "2018-07-02 17:11:59,288 : INFO : nDCG@5 : 0.67\n",
      "2018-07-02 17:11:59,294 : INFO : nDCG@10 : 0.69\n",
      "2018-07-02 17:11:59,302 : INFO : nDCG@20 : 0.71\n"
     ]
    },
    {
     "name": "stdout",
     "output_type": "stream",
     "text": [
      "Epoch 50/50\n",
      "281/281 [==============================] - 9s 33ms/step - loss: 0.2383 - acc: 0.5943\n"
     ]
    },
    {
     "name": "stderr",
     "output_type": "stream",
     "text": [
      "2018-07-02 17:12:09,942 : INFO : MAP: 0.60\n",
      "2018-07-02 17:12:09,947 : INFO : nDCG@1 : 0.43\n",
      "2018-07-02 17:12:09,953 : INFO : nDCG@3 : 0.60\n",
      "2018-07-02 17:12:09,960 : INFO : nDCG@5 : 0.66\n",
      "2018-07-02 17:12:09,966 : INFO : nDCG@10 : 0.69\n",
      "2018-07-02 17:12:09,972 : INFO : nDCG@20 : 0.70\n"
     ]
    }
   ],
   "source": [
    "# Train the model\n",
    "drmm_tks_model = DRMM_TKS(q_iterable, d_iterable, l_iterable, word_embedding=kv_model,\n",
    "                                epochs=50, validation_data=[q_val_iterable, d_val_iterable, l_val_iterable])"
   ]
  },
  {
   "cell_type": "markdown",
   "metadata": {},
   "source": [
    "## Saving and loading the model\n",
    "The trained model can be saved and loaded from memory for future use."
   ]
  },
  {
   "cell_type": "code",
   "execution_count": 10,
   "metadata": {},
   "outputs": [
    {
     "name": "stderr",
     "output_type": "stream",
     "text": [
      "2018-07-02 17:19:04,194 : INFO : saving DRMM_TKS object under drmm_tks_model, separately None\n",
      "2018-07-02 17:19:04,197 : INFO : storing np array 'vectors' to drmm_tks_model.word_embedding.vectors.npy\n",
      "2018-07-02 17:19:04,272 : INFO : storing np array 'embedding_matrix' to drmm_tks_model.embedding_matrix.npy\n",
      "2018-07-02 17:19:05,356 : INFO : not storing attribute model\n",
      "2018-07-02 17:19:05,357 : INFO : not storing attribute _get_pair_list\n",
      "2018-07-02 17:19:05,358 : INFO : not storing attribute _get_full_batch_iter\n",
      "2018-07-02 17:19:05,358 : INFO : not storing attribute queries\n",
      "2018-07-02 17:19:05,359 : INFO : not storing attribute docs\n",
      "2018-07-02 17:19:05,359 : INFO : not storing attribute labels\n",
      "2018-07-02 17:19:05,360 : INFO : not storing attribute pair_list\n",
      "2018-07-02 17:19:06,521 : INFO : saved drmm_tks_model\n"
     ]
    }
   ],
   "source": [
    "drmm_tks_model.save('drmm_tks_model')"
   ]
  },
  {
   "cell_type": "code",
   "execution_count": 11,
   "metadata": {},
   "outputs": [
    {
     "name": "stderr",
     "output_type": "stream",
     "text": [
      "2018-07-02 17:19:08,065 : INFO : loading DRMM_TKS object from drmm_tks_model\n",
      "2018-07-02 17:19:09,262 : INFO : loading word_embedding recursively from drmm_tks_model.word_embedding.* with mmap=None\n",
      "2018-07-02 17:19:09,262 : INFO : loading vectors from drmm_tks_model.word_embedding.vectors.npy with mmap=None\n",
      "2018-07-02 17:19:09,339 : INFO : loading embedding_matrix from drmm_tks_model.embedding_matrix.npy with mmap=None\n",
      "2018-07-02 17:19:11,422 : INFO : setting ignored attribute model to None\n",
      "2018-07-02 17:19:11,459 : INFO : setting ignored attribute _get_pair_list to None\n",
      "2018-07-02 17:19:11,460 : INFO : setting ignored attribute _get_full_batch_iter to None\n",
      "2018-07-02 17:19:11,460 : INFO : setting ignored attribute queries to None\n",
      "2018-07-02 17:19:11,461 : INFO : setting ignored attribute docs to None\n",
      "2018-07-02 17:19:11,462 : INFO : setting ignored attribute labels to None\n",
      "2018-07-02 17:19:11,462 : INFO : setting ignored attribute pair_list to None\n",
      "2018-07-02 17:19:11,463 : INFO : loaded drmm_tks_model\n"
     ]
    }
   ],
   "source": [
    "del drmm_tks_model\n",
    "drmm_tks_model = DRMM_TKS.load('drmm_tks_model')"
   ]
  },
  {
   "cell_type": "markdown",
   "metadata": {},
   "source": [
    "## Testing the model on new data\n",
    "\n",
    "The testing of the data can be done on completely unseen data using `model.predict(queries, docs)` where\n",
    "queries: list of list of words\n",
    "docs: list of list of list of words"
   ]
  },
  {
   "cell_type": "code",
   "execution_count": 12,
   "metadata": {},
   "outputs": [],
   "source": [
    "queries = [simple_preprocess(\"how are glacier caves formed\"),\n",
    "           simple_preprocess(\"What is AWS\")]\n",
    "\n",
    "docs = [[simple_preprocess(\"A partly submerged glacier cave on Perito Moreno Glacier\"),\n",
    "        simple_preprocess(\"A glacier cave is a cave formed within the ice of a glacier\")],\n",
    "       [simple_preprocess(\"AWS stands for Amazon Web Services\"),\n",
    "        simple_preprocess(\"AWS was established in 2001\"),\n",
    "        simple_preprocess(\"It is a cloud service\")]]"
   ]
  },
  {
   "cell_type": "markdown",
   "metadata": {},
   "source": [
    "The predict function returns the similarity between a query-document pair in a list format\n",
    "\n",
    "For example\n",
    "```\n",
    "queries = [q1, q2]\n",
    "docs = [[d1_1, d1_2],\n",
    "        [d2_1, d2_2, d2_3]]\n",
    "\n",
    "model.predict(queries, docs)\n",
    "\n",
    "Output\n",
    "------\n",
    "q1-d1_1 similarity\n",
    "q1-d1_2 similarity\n",
    "q2-d2_1 similarity\n",
    "q2-d2_2 similarity\n",
    "q2-d2_3 similarity\n",
    "```"
   ]
  },
  {
   "cell_type": "code",
   "execution_count": 13,
   "metadata": {},
   "outputs": [
    {
     "name": "stderr",
     "output_type": "stream",
     "text": [
      "2018-07-02 17:19:21,554 : INFO : Found 0 unknown words. Set them to unknown word index : 400643\n",
      "2018-07-02 17:19:21,593 : INFO : Found 0 unknown words. Set them to unknown word index : 400643\n",
      "2018-07-02 17:19:21,922 : INFO : Predictions in the format query, doc, similarity\n",
      "2018-07-02 17:19:21,924 : INFO : ['how', 'are', 'glacier', 'caves', 'formed']\t['partly', 'submerged', 'glacier', 'cave', 'on', 'perito', 'moreno', 'glacier']\t0.5308151\n",
      "2018-07-02 17:19:21,926 : INFO : ['how', 'are', 'glacier', 'caves', 'formed']\t['glacier', 'cave', 'is', 'cave', 'formed', 'within', 'the', 'ice', 'of', 'glacier']\t0.6153196\n",
      "2018-07-02 17:19:21,930 : INFO : ['what', 'is', 'aws']\t['aws', 'stands', 'for', 'amazon', 'web', 'services']\t0.6438204\n",
      "2018-07-02 17:19:21,932 : INFO : ['what', 'is', 'aws']\t['aws', 'was', 'established', 'in']\t0.6730261\n",
      "2018-07-02 17:19:21,933 : INFO : ['what', 'is', 'aws']\t['it', 'is', 'cloud', 'service']\t0.3378557\n"
     ]
    },
    {
     "data": {
      "text/plain": [
       "array([[0.5308151],\n",
       "       [0.6153196],\n",
       "       [0.6438204],\n",
       "       [0.6730261],\n",
       "       [0.3378557]], dtype=float32)"
      ]
     },
     "execution_count": 13,
     "metadata": {},
     "output_type": "execute_result"
    }
   ],
   "source": [
    "drmm_tks_model.predict(queries, docs)"
   ]
  },
  {
   "cell_type": "markdown",
   "metadata": {},
   "source": [
    "As can be seen from the logs and results above, within each query-document group, the correct answer has the highest score\n",
    "\n",
    "For example,\n",
    "In the first group\n",
    "```\n",
    "['how', 'are', 'glacier', 'caves', 'formed'] ['partly', 'submerged', 'glacier', 'cave', 'on', 'perito', 'moreno', 'glacier']\t0.53\n",
    "['how', 'are', 'glacier', 'caves', 'formed'] ['glacier', 'cave', 'is', 'cave', 'formed', 'within', 'the', 'ice', 'of', 'glacier']\t0.61\n",
    "```\n",
    "\n",
    "The correct answer, \"glacier cave is cave ...\" has the higher score as compared to the first answer\n",
    "The second pair almost gets it right (WIP)"
   ]
  },
  {
   "cell_type": "markdown",
   "metadata": {},
   "source": [
    "### Testing on a test set\n",
    "We can pass a whole dataset and get evaluations based on that. Let's try with the test set of WikiQA Corpus"
   ]
  },
  {
   "cell_type": "code",
   "execution_count": 14,
   "metadata": {},
   "outputs": [],
   "source": [
    "q_test_iterable = MyWikiIterable('query', os.path.join( 'experimental_data', 'WikiQACorpus', 'WikiQA-test.tsv'))\n",
    "d_test_iterable = MyWikiIterable('doc', os.path.join('experimental_data', 'WikiQACorpus', 'WikiQA-test.tsv'))\n",
    "l_test_iterable = MyWikiIterable('label', os.path.join('experimental_data', 'WikiQACorpus', 'WikiQA-test.tsv'))"
   ]
  },
  {
   "cell_type": "code",
   "execution_count": 15,
   "metadata": {},
   "outputs": [
    {
     "name": "stderr",
     "output_type": "stream",
     "text": [
      "2018-07-02 17:19:34,267 : INFO : Found 21 unknown words. Set them to unknown word index : 400643\n",
      "2018-07-02 17:19:34,335 : INFO : Found 253 unknown words. Set them to unknown word index : 400643\n",
      "2018-07-02 17:19:37,221 : INFO : MAP: 0.54\n",
      "2018-07-02 17:19:37,241 : INFO : nDCG@1 : 0.37\n",
      "2018-07-02 17:19:37,257 : INFO : nDCG@3 : 0.55\n",
      "2018-07-02 17:19:37,271 : INFO : nDCG@5 : 0.61\n",
      "2018-07-02 17:19:37,283 : INFO : nDCG@10 : 0.66\n",
      "2018-07-02 17:19:37,301 : INFO : nDCG@20 : 0.67\n"
     ]
    }
   ],
   "source": [
    "drmm_tks_model.evaluate(q_test_iterable, d_test_iterable, l_test_iterable)"
   ]
  },
  {
   "cell_type": "markdown",
   "metadata": {},
   "source": [
    "## Comparing DRMM TKS with other models\n",
    "\n",
    "It would be good to get an idea of how our model works against some unsupervised models like word2vec and FastText.\n",
    "For this, we will, given a query-document pair, we will get a vector for the query and document. We can get the similarity between them using the cosine similarity between their vectors.\n",
    "\n",
    "### For word2vec\n"
   ]
  },
  {
   "cell_type": "code",
   "execution_count": 16,
   "metadata": {},
   "outputs": [],
   "source": [
    "def cosine_similarity(vec1, vec2):\n",
    "    return np.dot(vec1, vec2)/(np.linalg.norm(vec1)* np.linalg.norm(vec2))"
   ]
  },
  {
   "cell_type": "code",
   "execution_count": 17,
   "metadata": {},
   "outputs": [],
   "source": [
    "import numpy as np\n",
    "from gensim.models.experimental import mapk, mean_ndcg\n",
    "\n",
    "def eval_model(queries, docs, labels, model):\n",
    "    long_doc_list = []\n",
    "    long_label_list = []\n",
    "    long_query_list = []\n",
    "    doc_lens = []\n",
    "\n",
    "    def sent2vec(sentence):\n",
    "        vec = np.zeros((model.vector_size))\n",
    "        for word in sentence:\n",
    "            if word in model:\n",
    "                vec += model[word]\n",
    "        return vec/len(sentence)\n",
    "    \n",
    "    for query, doc, label in zip(queries, docs, labels):\n",
    "        i = 0\n",
    "        for d, l in zip(doc, label):\n",
    "            if len(d) == 0 or len(query) == 0:\n",
    "                print(\"skipping query-doc pair due to no words in vocab\")\n",
    "                continue\n",
    "            long_query_list.append(sent2vec(query))\n",
    "            long_doc_list.append(sent2vec(d))\n",
    "            long_label_list.append(l)\n",
    "            i += 1\n",
    "        doc_lens.append(len(doc))\n",
    "\n",
    "    doc_lens = np.array(doc_lens)\n",
    "\n",
    "    predictions = []\n",
    "    for q, d in zip(long_query_list, long_doc_list):\n",
    "        predictions.append(cosine_similarity(q, d))\n",
    "\n",
    "    Y_pred = []\n",
    "    Y_true = []\n",
    "    offset = 0\n",
    "\n",
    "    for doc_size in doc_lens:\n",
    "        Y_pred.append(predictions[offset: offset + doc_size])\n",
    "        Y_true.append(long_label_list[offset: offset + doc_size])\n",
    "        offset += doc_size\n",
    "        \n",
    "    print(\"MAP: %.2f\"% mapk(Y_true, Y_pred))\n",
    "    for k in [1, 3, 5, 10, 20]:\n",
    "        print(\"nDCG@%d : %.2f \" % (k, mean_ndcg(Y_true, Y_pred, k=k)))\n"
   ]
  },
  {
   "cell_type": "code",
   "execution_count": 18,
   "metadata": {},
   "outputs": [
    {
     "name": "stdout",
     "output_type": "stream",
     "text": [
      "skipping query-doc pair due to no words in vocab\n",
      "skipping query-doc pair due to no words in vocab\n",
      "MAP: 0.56\n",
      "nDCG@1 : 0.41 \n",
      "nDCG@3 : 0.58 \n",
      "nDCG@5 : 0.64 \n",
      "nDCG@10 : 0.68 \n",
      "nDCG@20 : 0.70 \n"
     ]
    }
   ],
   "source": [
    "eval_model(q_test_iterable, d_test_iterable, l_test_iterable, kv_model)"
   ]
  },
  {
   "cell_type": "markdown",
   "metadata": {},
   "source": [
    "Let's compare that with our model"
   ]
  },
  {
   "cell_type": "code",
   "execution_count": 19,
   "metadata": {},
   "outputs": [
    {
     "name": "stderr",
     "output_type": "stream",
     "text": [
      "2018-07-02 17:19:46,506 : INFO : Found 21 unknown words. Set them to unknown word index : 400643\n",
      "2018-07-02 17:19:46,571 : INFO : Found 253 unknown words. Set them to unknown word index : 400643\n",
      "2018-07-02 17:19:49,663 : INFO : MAP: 0.54\n",
      "2018-07-02 17:19:49,676 : INFO : nDCG@1 : 0.37\n",
      "2018-07-02 17:19:49,690 : INFO : nDCG@3 : 0.55\n",
      "2018-07-02 17:19:49,710 : INFO : nDCG@5 : 0.61\n",
      "2018-07-02 17:19:49,726 : INFO : nDCG@10 : 0.66\n",
      "2018-07-02 17:19:49,738 : INFO : nDCG@20 : 0.67\n"
     ]
    }
   ],
   "source": [
    "drmm_tks_model.evaluate(q_test_iterable, d_test_iterable, l_test_iterable)"
   ]
  },
  {
   "cell_type": "markdown",
   "metadata": {},
   "source": [
    "While the accuracy isn't any better, it is worse, this is still a Work In Progress and we hope to improve it further soon."
   ]
  }
 ],
 "metadata": {
  "kernelspec": {
   "display_name": "Python 3",
   "language": "python",
   "name": "python3"
  },
  "language_info": {
   "codemirror_mode": {
    "name": "ipython",
    "version": 3
   },
   "file_extension": ".py",
   "mimetype": "text/x-python",
   "name": "python",
   "nbconvert_exporter": "python",
   "pygments_lexer": "ipython3",
   "version": "3.6.5"
  }
 },
 "nbformat": 4,
 "nbformat_minor": 2
}
