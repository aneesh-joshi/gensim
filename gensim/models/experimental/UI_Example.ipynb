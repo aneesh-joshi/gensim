{
 "cells": [
  {
   "cell_type": "markdown",
   "metadata": {},
   "source": [
    "# Getting the dataset\n",
    "A script has been provided to download all the datasets required for running the below examples.\n",
    "It will dowload and unzip the WikiQA Corpus and the Quora Duplicate Questions dataset."
   ]
  },
  {
   "cell_type": "code",
   "execution_count": null,
   "metadata": {},
   "outputs": [],
   "source": [
    "!python experimental_data/get_data.py"
   ]
  },
  {
   "cell_type": "markdown",
   "metadata": {},
   "source": [
    "## Installing dependencies for running the Similarity Learning task"
   ]
  },
  {
   "cell_type": "code",
   "execution_count": 3,
   "metadata": {},
   "outputs": [
    {
     "name": "stderr",
     "output_type": "stream",
     "text": [
      "Using TensorFlow backend.\n",
      "2018-07-06 18:55:13,754 : INFO : 'pattern' package not found; tag filters are not available for English\n"
     ]
    }
   ],
   "source": [
    "import os\n",
    "import csv\n",
    "import re\n",
    "from gensim.models.experimental.drmm_tks import DRMM_TKS\n",
    "from gensim.utils import simple_preprocess"
   ]
  },
  {
   "cell_type": "markdown",
   "metadata": {},
   "source": [
    "## Data Format"
   ]
  },
  {
   "cell_type": "markdown",
   "metadata": {},
   "source": [
    "We have to provide data in a format which is understood by the model.\n",
    "The model understands sentences as a list of words. \n",
    "Further, we need to give a :\n",
    " 1. Queries List\n",
    " 2. Candidate Document List\n",
    " 3. Correct Label List\n",
    "\n",
    "1 is a list of list of words\n",
    "2 and 3 is actually a list of list of list of words/ints\n",
    "\n",
    "Example:\n",
    "```\n",
    "queries = [\"When was Abraham Lincoln born ?\".split(), \n",
    "            \"When was the first World War ?\".split()]\n",
    "docs = [\n",
    "\t\t [\"Abraham Lincoln was the president of the United States of America\".split(),\n",
    "\t\t \"He was born in 1809\".split()],\n",
    "\t\t [\"The first world war was bad\".split(),\n",
    "\t\t \"It was fought in 1914\".split(),\n",
    "\t\t \"There were over a million deaths\".split()]\n",
    "       ]\n",
    "labels = [[0,\n",
    "           1],\n",
    "\t\t  [0,\n",
    "           1,\n",
    "           0]\n",
    "          ]\n",
    "```"
   ]
  },
  {
   "cell_type": "markdown",
   "metadata": {},
   "source": [
    "## About the dataset : WikiQA\n",
    "\n",
    "The WikiQA corpus is a set of question-answer pairs in which for every query there are several candidate documents of which none, one or more documents might be relevant.\n",
    "Relevance is purely binary, i.e., 1: relavant, 0: not relevant\n",
    "\n",
    "Sample data:\n",
    "\n",
    "QuestionID | Question | DocumentID | DocumentTitle | SentenceID | Sentence | Label\n",
    "-- | -- | -- | -- | -- | -- | --\n",
    "Q1 | how are glacier caves formed? | D1 | Glacier cave | D1-0 | A partly submerged glacier cave on Perito Moreno Glacier . | 0\n",
    "Q1 | how are glacier caves formed? | D1 | Glacier cave | D1-1 | The ice facade is approximately 60 m high | 0\n",
    "Q1 | how are glacier caves formed? | D1 | Glacier cave | D1-2 | Ice formations in the Titlis glacier cave | 0\n",
    "Q1 | how are glacier caves formed? | D1 | Glacier cave | D1-3 | A glacier cave is a cave formed within the ice of a glacier . | 1\n",
    "Q1 | how are glacier caves formed? | D1 | Glacier cave | D1-4 | Glacier caves are often called ice caves , but this term is properly used to describe bedrock caves that contain year-round ice. | 0\n",
    "Q2 | How are the directions of the velocity and force vectors related in a circular motion | D2 | Circular motion | D2-0 | In physics , circular motion is a movement of an object along the circumference of a circle or rotation along a circular path. | 0\n",
    "Q2 | How are the directions of the velocity and force vectors related in a circular motion | D2 | Circular motion | D2-1 | It can be uniform, with constant angular rate of rotation (and constant speed), or non-uniform with a changing rate of rotation. | 0\n",
    "Q2 | How are the directions of the velocity and force vectors related in a circular motion | D2 | Circular motion | D2-2 | The rotation around a fixed axis of a three-dimensional body involves circular motion of its parts. | 0\n",
    "Q2 | How are the directions of the velocity and force vectors related in a circular motion | D2 | Circular motion | D2-3 | The equations of motion describe the movement of the center of mass of a body. | 0\n",
    "Q2 | How are the directions of the velocity and force vectors related in a circular motion | D2 | Circular motion | D2-4 | Examples of circular motion include: an artificial satellite orbiting the Earth at constant height, a stone which is tied to a rope and is being swung in circles, a car turning through a curve in a race track , an electron moving perpendicular to a uniform magnetic field , and a gear turning inside a mechanism. | 0\n",
    "Q2 | How are the directions of the velocity and force vectors related in a circular motion | D2 | Circular motion | D2-5 | Since the object's velocity vector is constantly changing direction, the moving object is undergoing acceleration by a centripetal force in the direction of the center of rotation. | 0\n",
    "Q2 | How are the directions of the velocity and force vectors related in a circular motion | D2 | Circular motion | D2-6 | Without this acceleration, the object would move in a straight line, according to Newton's laws of motion . | 0"
   ]
  },
  {
   "cell_type": "markdown",
   "metadata": {},
   "source": [
    "## Data Preprocessing\n",
    "We need to take the above text and make it into `queries, docs, labels` form. For this, we will create an iterable object with the below class which will allow the data to be streamed into the model as the need arises."
   ]
  },
  {
   "cell_type": "code",
   "execution_count": 4,
   "metadata": {},
   "outputs": [],
   "source": [
    "class MyWikiIterable:\n",
    "    \"\"\"\"Yields the next data point in the data set based on the `iter_type`\n",
    "    \n",
    "    Based on `iter_type` the object can yield the following:\n",
    "        'query' : list of str words\n",
    "        'doc' : list of docs\n",
    "                    where a doc is a list of str words\n",
    "        'label' : list of int\n",
    "                  The relevance between adjacent queries and docs\n",
    "    \"\"\"\n",
    "\n",
    "    def __init__(self, iter_type, fpath):\n",
    "        \"\"\"\n",
    "        Parameters\n",
    "        ----------\n",
    "        iter_type : {'query', 'doc', 'label'}\n",
    "            the type of iterable to be yielded\n",
    "        fpath : str\n",
    "            path to the dataset\n",
    "        \"\"\"\n",
    "\n",
    "        # To map the `iter_type` to an index\n",
    "        self.type_translator = {'query': 0, 'doc': 1, 'label': 2}\n",
    "        self.iter_type = iter_type\n",
    "\n",
    "        with open(fpath, encoding='utf8') as tsv_file:\n",
    "            tsv_reader = csv.reader(tsv_file, delimiter='\\t', quoting=csv.QUOTE_NONE)\n",
    "            self.data_rows = []\n",
    "            self.data_rows = [row for row in tsv_reader]\n",
    "\n",
    "    def preprocess_sent(self, sent):\n",
    "        \"\"\"Utility function to lower, strip and tokenize each sentence\n",
    "        Replace this function if you want to handle preprocessing differently\"\"\"\n",
    "\n",
    "        return simple_preprocess(sent)\n",
    "\n",
    "    def __iter__(self):\n",
    "        # Defining some consants for .tsv reading\n",
    "        # They represent the columns of the respective values\n",
    "        QUESTION_ID_INDEX = 0\n",
    "        QUESTION_INDEX = 1\n",
    "        ANSWER_INDEX = 5\n",
    "        LABEL_INDEX = 6\n",
    "\n",
    "\n",
    "        # The group of documents and labels that belong to one question\n",
    "        document_group = []\n",
    "        label_group = []\n",
    "\n",
    "        # Number of relevant documents per query\n",
    "        n_relevant_docs = 0\n",
    "        # Number of filtered docs (query-doc pairs which have zero relevant docs)\n",
    "        n_filtered_docs = 0\n",
    "\n",
    "        # The data\n",
    "        queries = []\n",
    "        docs = []\n",
    "        labels = []\n",
    "\n",
    "        # The code below goes through the data line by line\n",
    "        # It checks the current document id with the next document id\n",
    "        for i, line in enumerate(self.data_rows[1:], start=1):\n",
    "\n",
    "            if i < len(self.data_rows) - 1:  # check if out of bounds might occur\n",
    "\n",
    "                if self.data_rows[i][QUESTION_ID_INDEX] == self.data_rows[i + 1][QUESTION_ID_INDEX]:\n",
    "                    document_group.append(self.preprocess_sent(self.data_rows[i][ANSWER_INDEX]))\n",
    "                    label_group.append(int(self.data_rows[i][LABEL_INDEX]))\n",
    "                    n_relevant_docs += int(self.data_rows[i][LABEL_INDEX])\n",
    "                else:\n",
    "                    document_group.append(self.preprocess_sent(self.data_rows[i][ANSWER_INDEX]))\n",
    "                    label_group.append(int(self.data_rows[i][LABEL_INDEX]))\n",
    "                    n_relevant_docs += int(self.data_rows[i][LABEL_INDEX])\n",
    "\n",
    "                    if n_relevant_docs > 0:\n",
    "                        docs.append(document_group)\n",
    "                        labels.append(label_group)\n",
    "                        queries.append(self.preprocess_sent(self.data_rows[i][QUESTION_INDEX]))\n",
    "\n",
    "                        yield [queries[-1], document_group, label_group][self.type_translator[self.iter_type]]\n",
    "                    else:\n",
    "                        n_filtered_docs += 1\n",
    "\n",
    "                    n_relevant_docs = 0\n",
    "                    document_group = []\n",
    "                    label_group = []\n",
    "\n",
    "            else:\n",
    "                # If we are on the last line\n",
    "                document_group.append(self.preprocess_sent(self.data_rows[i][ANSWER_INDEX]))\n",
    "                label_group.append(int(self.data_rows[i][LABEL_INDEX]))\n",
    "                n_relevant_docs += int(self.data_rows[i][LABEL_INDEX])\n",
    "\n",
    "                if n_relevant_docs > 0:\n",
    "                    docs.append(document_group)\n",
    "                    labels.append(label_group)\n",
    "                    queries.append(self.preprocess_sent(self.data_rows[i][QUESTION_INDEX]))\n",
    "                    yield [queries[-1], document_group, label_group][self.type_translator[self.iter_type]]\n",
    "                else:\n",
    "                    n_filtered_docs += 1\n",
    "                    n_relevant_docs = 0\n",
    "        print(\"Skipped \", n_filtered_docs)"
   ]
  },
  {
   "cell_type": "code",
   "execution_count": null,
   "metadata": {},
   "outputs": [],
   "source": [
    "l_iterable = MyWikiIterable('label', os.path.join('experimental_data', 'WikiQACorpus', 'WikiQA-train.tsv'))\n",
    "for l in l_iterable:\n",
    "    print(l)\n",
    "    if sum(l) == 0:\n",
    "        bdfbv"
   ]
  },
  {
   "cell_type": "markdown",
   "metadata": {},
   "source": [
    "Now, will use the class to create objects of the training iterable"
   ]
  },
  {
   "cell_type": "code",
   "execution_count": 27,
   "metadata": {},
   "outputs": [],
   "source": [
    "q_iterable = MyWikiIterable('query', os.path.join( 'experimental_data', 'WikiQACorpus', 'WikiQA-train.tsv'))\n",
    "d_iterable = MyWikiIterable('doc', os.path.join('experimental_data', 'WikiQACorpus', 'WikiQA-train.tsv'))\n",
    "l_iterable = MyWikiIterable('label', os.path.join('experimental_data', 'WikiQACorpus', 'WikiQA-train.tsv'))"
   ]
  },
  {
   "cell_type": "markdown",
   "metadata": {},
   "source": [
    "We will also initialize some validation iterables\n",
    "Note: the path has `dev` in it"
   ]
  },
  {
   "cell_type": "code",
   "execution_count": 26,
   "metadata": {},
   "outputs": [],
   "source": [
    "q_val_iterable = MyWikiIterable('query', os.path.join( 'experimental_data', 'WikiQACorpus', 'WikiQA-dev.tsv'))\n",
    "d_val_iterable = MyWikiIterable('doc', os.path.join('experimental_data', 'WikiQACorpus', 'WikiQA-dev.tsv'))\n",
    "l_val_iterable = MyWikiIterable('label', os.path.join('experimental_data', 'WikiQACorpus', 'WikiQA-dev.tsv'))"
   ]
  },
  {
   "cell_type": "markdown",
   "metadata": {},
   "source": [
    "# Using word embeddings\n",
    "We also need to get the word embeddings for the training. For this, we will use the Glove Embeddings.\n",
    "Luckily, [gensim-data](https://github.com/RaRe-Technologies/gensim-data) provides an easy interface for it.\n",
    "\n",
    "We will use the [KeyedVectors](https://radimrehurek.com/gensim/models/keyedvectors.html) object that we for from gensim-data api and pass it as the `word_embedding` parameter in the model."
   ]
  },
  {
   "cell_type": "code",
   "execution_count": 28,
   "metadata": {},
   "outputs": [
    {
     "name": "stderr",
     "output_type": "stream",
     "text": [
      "2018-07-06 19:02:19,829 : INFO : loading projection weights from /home/aneeshj/gensim-data/glove-wiki-gigaword-300/glove-wiki-gigaword-300.gz\n",
      "2018-07-06 19:04:03,130 : INFO : loaded (400000, 300) matrix from /home/aneeshj/gensim-data/glove-wiki-gigaword-300/glove-wiki-gigaword-300.gz\n"
     ]
    }
   ],
   "source": [
    "import gensim.downloader as api\n",
    "kv_model = api.load(\"glove-wiki-gigaword-300\")"
   ]
  },
  {
   "cell_type": "markdown",
   "metadata": {},
   "source": [
    "# Training the Model\n",
    "Now that we have the preprocessed extracted data and word embeddings, training the model just takes one line:"
   ]
  },
  {
   "cell_type": "code",
   "execution_count": 30,
   "metadata": {},
   "outputs": [
    {
     "name": "stderr",
     "output_type": "stream",
     "text": [
      "2018-07-06 19:33:14,396 : INFO : Starting Vocab Build\n"
     ]
    },
    {
     "name": "stdout",
     "output_type": "stream",
     "text": [
      "Skipped  1245\n"
     ]
    },
    {
     "name": "stderr",
     "output_type": "stream",
     "text": [
      "2018-07-06 19:33:21,367 : INFO : Vocab Build Complete\n",
      "2018-07-06 19:33:21,368 : INFO : Vocab Size is 18814\n",
      "2018-07-06 19:33:21,369 : INFO : Building embedding index using KeyedVector pretrained word embeddings\n",
      "2018-07-06 19:33:21,369 : INFO : The embeddings_index built from the given file has 400000 words of 300 dimensions\n",
      "2018-07-06 19:33:21,370 : INFO : Building the Embedding Matrix for the model's Embedding Layer\n"
     ]
    },
    {
     "name": "stdout",
     "output_type": "stream",
     "text": [
      "Skipped  1245\n"
     ]
    },
    {
     "name": "stderr",
     "output_type": "stream",
     "text": [
      "2018-07-06 19:34:26,102 : INFO : There are 642 words out of 18814 (3.41%) not in the embeddings. Setting them to random\n",
      "2018-07-06 19:34:26,104 : INFO : Adding additional words from the embedding file to embedding matrix\n",
      "2018-07-06 19:35:07,562 : INFO : Normalizing the word embeddings\n",
      "2018-07-06 19:36:17,499 : INFO : Embedding Matrix build complete. It now has shape (400644, 300)\n",
      "2018-07-06 19:36:23,607 : INFO : Pad word has been set to index 400642\n",
      "2018-07-06 19:36:25,849 : INFO : Unknown word has been set to index 400643\n",
      "2018-07-06 19:36:26,071 : INFO : Embedding index build complete\n",
      "2018-07-06 19:36:55,938 : INFO : Input is an iterable amd will be streamed\n",
      "2018-07-06 19:38:26,868 : INFO : __________________________________________________________________________________________________\n",
      "2018-07-06 19:38:28,230 : INFO : Layer (type)                    Output Shape         Param #     Connected to                     \n",
      "2018-07-06 19:38:28,254 : INFO : ==================================================================================================\n",
      "2018-07-06 19:38:28,318 : INFO : query (InputLayer)              (None, 200)          0                                            \n",
      "2018-07-06 19:38:28,318 : INFO : __________________________________________________________________________________________________\n",
      "2018-07-06 19:38:28,319 : INFO : doc (InputLayer)                (None, 200)          0                                            \n",
      "2018-07-06 19:38:28,320 : INFO : __________________________________________________________________________________________________\n",
      "2018-07-06 19:38:28,321 : INFO : embedding_2 (Embedding)         (None, 200, 300)     120193200   query[0][0]                      \n",
      "2018-07-06 19:38:28,329 : INFO :                                                                  doc[0][0]                        \n",
      "2018-07-06 19:38:28,352 : INFO : __________________________________________________________________________________________________\n",
      "2018-07-06 19:38:28,353 : INFO : dot_3 (Dot)                     (None, 200, 200)     0           embedding_2[0][0]                \n",
      "2018-07-06 19:38:28,353 : INFO :                                                                  embedding_2[1][0]                \n",
      "2018-07-06 19:38:28,354 : INFO : __________________________________________________________________________________________________\n",
      "2018-07-06 19:38:28,385 : INFO : top_k_layer_2 (TopKLayer)       (None, 200, 50)      0           dot_3[0][0]                      \n",
      "2018-07-06 19:38:28,386 : INFO : __________________________________________________________________________________________________\n",
      "2018-07-06 19:38:28,387 : INFO : dense_5 (Dense)                 (None, 200, 100)     5100        top_k_layer_2[0][0]              \n",
      "2018-07-06 19:38:28,387 : INFO : __________________________________________________________________________________________________\n",
      "2018-07-06 19:38:28,388 : INFO : dense_6 (Dense)                 (None, 200, 1)       101         dense_5[0][0]                    \n",
      "2018-07-06 19:38:28,396 : INFO : __________________________________________________________________________________________________\n",
      "2018-07-06 19:38:28,397 : INFO : dropout_2 (Dropout)             (None, 200, 1)       0           dense_6[0][0]                    \n",
      "2018-07-06 19:38:28,397 : INFO : __________________________________________________________________________________________________\n",
      "2018-07-06 19:38:28,398 : INFO : dense_4 (Dense)                 (None, 200, 1)       301         embedding_2[0][0]                \n",
      "2018-07-06 19:38:28,434 : INFO : __________________________________________________________________________________________________\n",
      "2018-07-06 19:38:28,435 : INFO : reshape_5 (Reshape)             (None, 200)          0           dropout_2[0][0]                  \n",
      "2018-07-06 19:38:28,435 : INFO : __________________________________________________________________________________________________\n",
      "2018-07-06 19:38:28,436 : INFO : reshape_4 (Reshape)             (None, 200)          0           dense_4[0][0]                    \n",
      "2018-07-06 19:38:28,502 : INFO : __________________________________________________________________________________________________\n",
      "2018-07-06 19:38:28,503 : INFO : dot_4 (Dot)                     (None, 1)            0           reshape_5[0][0]                  \n",
      "2018-07-06 19:38:28,504 : INFO :                                                                  reshape_4[0][0]                  \n",
      "2018-07-06 19:38:28,504 : INFO : __________________________________________________________________________________________________\n",
      "2018-07-06 19:38:28,505 : INFO : reshape_6 (Reshape)             (None, 1)            0           dot_4[0][0]                      \n",
      "2018-07-06 19:38:28,506 : INFO : ==================================================================================================\n",
      "2018-07-06 19:38:28,507 : INFO : Total params: 120,198,702\n",
      "2018-07-06 19:38:28,507 : INFO : Trainable params: 5,502\n",
      "2018-07-06 19:38:28,616 : INFO : Non-trainable params: 120,193,200\n",
      "2018-07-06 19:38:28,617 : INFO : __________________________________________________________________________________________________\n"
     ]
    },
    {
     "name": "stdout",
     "output_type": "stream",
     "text": [
      "Skipped  170\n"
     ]
    },
    {
     "name": "stderr",
     "output_type": "stream",
     "text": [
      "2018-07-06 19:38:52,907 : INFO : Found 14 unknown words. Set them to unknown word index : 400643\n",
      "2018-07-06 19:39:28,306 : INFO : Found 90 unknown words. Set them to unknown word index : 400643\n"
     ]
    },
    {
     "name": "stdout",
     "output_type": "stream",
     "text": [
      "Epoch 1/3\n",
      "889/900 [============================>.] - ETA: 1s - loss: 0.9344 - acc: 0.1905Skipped 1245\n",
      "SAMPLA RE!!!!!!!!!!!!!!!!!! 8995\n",
      "900/900 [==============================] - 99s 110ms/step - loss: 0.9347 - acc: 0.1949\n"
     ]
    },
    {
     "name": "stderr",
     "output_type": "stream",
     "text": [
      "2018-07-06 19:41:24,602 : INFO : MAP: 0.60\n",
      "2018-07-06 19:41:24,639 : INFO : nDCG@1 : 0.42\n",
      "2018-07-06 19:41:24,644 : INFO : nDCG@3 : 0.60\n",
      "2018-07-06 19:41:24,651 : INFO : nDCG@5 : 0.65\n",
      "2018-07-06 19:41:24,656 : INFO : nDCG@10 : 0.69\n",
      "2018-07-06 19:41:24,661 : INFO : nDCG@20 : 0.70\n"
     ]
    },
    {
     "name": "stdout",
     "output_type": "stream",
     "text": [
      "Epoch 2/3\n",
      "888/900 [============================>.] - ETA: 1s - loss: 0.8346 - acc: 0.3258Skipped  1245\n",
      "SAMPLA RE!!!!!!!!!!!!!!!!!! 8995\n",
      "900/900 [==============================] - 84s 94ms/step - loss: 0.8354 - acc: 0.3273\n"
     ]
    },
    {
     "name": "stderr",
     "output_type": "stream",
     "text": [
      "2018-07-06 19:42:53,641 : INFO : MAP: 0.64\n",
      "2018-07-06 19:42:53,646 : INFO : nDCG@1 : 0.48\n",
      "2018-07-06 19:42:53,652 : INFO : nDCG@3 : 0.63\n",
      "2018-07-06 19:42:53,660 : INFO : nDCG@5 : 0.68\n",
      "2018-07-06 19:42:53,670 : INFO : nDCG@10 : 0.72\n",
      "2018-07-06 19:42:53,677 : INFO : nDCG@20 : 0.73\n"
     ]
    },
    {
     "name": "stdout",
     "output_type": "stream",
     "text": [
      "Epoch 3/3\n",
      "888/900 [============================>.] - ETA: 1s - loss: 0.8176 - acc: 0.3718Skipped  1245\n",
      "SAMPLA RE!!!!!!!!!!!!!!!!!! 8995\n",
      "900/900 [==============================] - 83s 92ms/step - loss: 0.8178 - acc: 0.3743\n"
     ]
    },
    {
     "name": "stderr",
     "output_type": "stream",
     "text": [
      "2018-07-06 19:44:21,704 : INFO : MAP: 0.64\n",
      "2018-07-06 19:44:21,709 : INFO : nDCG@1 : 0.48\n",
      "2018-07-06 19:44:21,719 : INFO : nDCG@3 : 0.63\n",
      "2018-07-06 19:44:21,729 : INFO : nDCG@5 : 0.69\n",
      "2018-07-06 19:44:21,736 : INFO : nDCG@10 : 0.72\n",
      "2018-07-06 19:44:21,742 : INFO : nDCG@20 : 0.73\n"
     ]
    }
   ],
   "source": [
    "# Train the model\n",
    "drmm_tks_model = DRMM_TKS(q_iterable, d_iterable, l_iterable, word_embedding=kv_model,\n",
    "                                epochs=3, validation_data=[q_val_iterable, d_val_iterable, l_val_iterable])"
   ]
  },
  {
   "cell_type": "markdown",
   "metadata": {},
   "source": [
    "## Saving and loading the model\n",
    "The trained model can be saved and loaded from memory for future use."
   ]
  },
  {
   "cell_type": "code",
   "execution_count": null,
   "metadata": {},
   "outputs": [],
   "source": [
    "drmm_tks_model.save('drmm_tks_model')"
   ]
  },
  {
   "cell_type": "code",
   "execution_count": null,
   "metadata": {},
   "outputs": [],
   "source": [
    "del drmm_tks_model\n",
    "drmm_tks_model = DRMM_TKS.load('drmm_tks_model')"
   ]
  },
  {
   "cell_type": "markdown",
   "metadata": {},
   "source": [
    "## Testing the model on new data\n",
    "\n",
    "The testing of the data can be done on completely unseen data using `model.predict(queries, docs)` where\n",
    "queries: list of list of words\n",
    "docs: list of list of list of words"
   ]
  },
  {
   "cell_type": "code",
   "execution_count": 31,
   "metadata": {},
   "outputs": [],
   "source": [
    "queries = [simple_preprocess(\"how are glacier caves formed\"),\n",
    "           simple_preprocess(\"What is AWS\")]\n",
    "\n",
    "docs = [[simple_preprocess(\"A partly submerged glacier cave on Perito Moreno Glacier\"),\n",
    "        simple_preprocess(\"A glacier cave is a cave formed within the ice of a glacier\")],\n",
    "       [simple_preprocess(\"AWS stands for Amazon Web Services\"),\n",
    "        simple_preprocess(\"AWS was established in 2001\"),\n",
    "        simple_preprocess(\"It is a cloud service\")]]"
   ]
  },
  {
   "cell_type": "markdown",
   "metadata": {},
   "source": [
    "The predict function returns the similarity between a query-document pair in a list format\n",
    "\n",
    "For example\n",
    "```\n",
    "queries = [q1, q2]\n",
    "docs = [[d1_1, d1_2],\n",
    "        [d2_1, d2_2, d2_3]]\n",
    "\n",
    "model.predict(queries, docs)\n",
    "\n",
    "Output\n",
    "------\n",
    "q1-d1_1 similarity\n",
    "q1-d1_2 similarity\n",
    "q2-d2_1 similarity\n",
    "q2-d2_2 similarity\n",
    "q2-d2_3 similarity\n",
    "```"
   ]
  },
  {
   "cell_type": "code",
   "execution_count": 32,
   "metadata": {},
   "outputs": [
    {
     "name": "stderr",
     "output_type": "stream",
     "text": [
      "2018-07-06 19:44:53,879 : INFO : Found 0 unknown words. Set them to unknown word index : 400643\n",
      "2018-07-06 19:44:53,880 : INFO : Found 0 unknown words. Set them to unknown word index : 400643\n",
      "2018-07-06 19:44:53,906 : INFO : Predictions in the format query, doc, similarity\n",
      "2018-07-06 19:44:53,957 : INFO : ['how', 'are', 'glacier', 'caves', 'formed']\t['partly', 'submerged', 'glacier', 'cave', 'on', 'perito', 'moreno', 'glacier']\t0.60059035\n",
      "2018-07-06 19:44:53,958 : INFO : ['how', 'are', 'glacier', 'caves', 'formed']\t['glacier', 'cave', 'is', 'cave', 'formed', 'within', 'the', 'ice', 'of', 'glacier']\t0.9258956\n",
      "2018-07-06 19:44:53,959 : INFO : ['what', 'is', 'aws']\t['aws', 'stands', 'for', 'amazon', 'web', 'services']\t0.38946432\n",
      "2018-07-06 19:44:53,959 : INFO : ['what', 'is', 'aws']\t['aws', 'was', 'established', 'in']\t0.37697053\n",
      "2018-07-06 19:44:53,960 : INFO : ['what', 'is', 'aws']\t['it', 'is', 'cloud', 'service']\t0.5015697\n"
     ]
    },
    {
     "data": {
      "text/plain": [
       "array([[0.60059035],\n",
       "       [0.9258956 ],\n",
       "       [0.38946432],\n",
       "       [0.37697053],\n",
       "       [0.5015697 ]], dtype=float32)"
      ]
     },
     "execution_count": 32,
     "metadata": {},
     "output_type": "execute_result"
    }
   ],
   "source": [
    "drmm_tks_model.predict(queries, docs)"
   ]
  },
  {
   "cell_type": "markdown",
   "metadata": {},
   "source": [
    "As can be seen from the logs and results above, within each query-document group, the correct answer has the highest score\n",
    "\n",
    "For example,\n",
    "In the first group\n",
    "```\n",
    "['how', 'are', 'glacier', 'caves', 'formed'] ['partly', 'submerged', 'glacier', 'cave', 'on', 'perito', 'moreno', 'glacier']\t0.53\n",
    "['how', 'are', 'glacier', 'caves', 'formed'] ['glacier', 'cave', 'is', 'cave', 'formed', 'within', 'the', 'ice', 'of', 'glacier']\t0.61\n",
    "```\n",
    "\n",
    "The correct answer, \"glacier cave is cave ...\" has the higher score as compared to the first answer\n",
    "The second pair almost gets it right (WIP)"
   ]
  },
  {
   "cell_type": "markdown",
   "metadata": {},
   "source": [
    "### Testing on a test set\n",
    "We can pass a whole dataset and get evaluations based on that. Let's try with the test set of WikiQA Corpus"
   ]
  },
  {
   "cell_type": "code",
   "execution_count": 33,
   "metadata": {},
   "outputs": [],
   "source": [
    "q_test_iterable = MyWikiIterable('query', os.path.join( 'experimental_data', 'WikiQACorpus', 'WikiQA-test.tsv'))\n",
    "d_test_iterable = MyWikiIterable('doc', os.path.join('experimental_data', 'WikiQACorpus', 'WikiQA-test.tsv'))\n",
    "l_test_iterable = MyWikiIterable('label', os.path.join('experimental_data', 'WikiQACorpus', 'WikiQA-test.tsv'))"
   ]
  },
  {
   "cell_type": "code",
   "execution_count": 34,
   "metadata": {},
   "outputs": [
    {
     "name": "stdout",
     "output_type": "stream",
     "text": [
      "Skipped  390\n"
     ]
    }
   ],
   "source": [
    "for q, doc, lab in zip(q_test_iterable, d_test_iterable, l_test_iterable):\n",
    "    for d, l in zip(doc, lab):\n",
    "        if len(q) ==0 or len(d)==0 :\n",
    "            print(q,d,l)"
   ]
  },
  {
   "cell_type": "code",
   "execution_count": 35,
   "metadata": {},
   "outputs": [
    {
     "name": "stdout",
     "output_type": "stream",
     "text": [
      "Skipped  390\n"
     ]
    },
    {
     "name": "stderr",
     "output_type": "stream",
     "text": [
      "2018-07-06 19:45:14,550 : INFO : Found 21 unknown words. Set them to unknown word index : 400643\n",
      "2018-07-06 19:45:24,857 : INFO : Found 249 unknown words. Set them to unknown word index : 400643\n",
      "2018-07-06 19:45:34,533 : INFO : MAP: 0.62\n",
      "2018-07-06 19:45:34,557 : INFO : nDCG@1 : 0.46\n",
      "2018-07-06 19:45:34,571 : INFO : nDCG@3 : 0.60\n",
      "2018-07-06 19:45:34,584 : INFO : nDCG@5 : 0.66\n",
      "2018-07-06 19:45:34,602 : INFO : nDCG@10 : 0.70\n",
      "2018-07-06 19:45:34,628 : INFO : nDCG@20 : 0.71\n"
     ]
    }
   ],
   "source": [
    "drmm_tks_model.evaluate(q_test_iterable, d_test_iterable, l_test_iterable)"
   ]
  },
  {
   "cell_type": "markdown",
   "metadata": {},
   "source": [
    "## Comparing DRMM TKS with other models\n",
    "\n",
    "It would be good to get an idea of how our model works against some unsupervised models like word2vec and FastText.\n",
    "For this, we will, given a query-document pair, we will get a vector for the query and document. We can get the similarity between them using the cosine similarity between their vectors.\n",
    "\n",
    "### For word2vec\n"
   ]
  },
  {
   "cell_type": "code",
   "execution_count": 36,
   "metadata": {},
   "outputs": [],
   "source": [
    "def cosine_similarity(vec1, vec2):\n",
    "    return np.dot(vec1, vec2)/(np.linalg.norm(vec1)* np.linalg.norm(vec2))"
   ]
  },
  {
   "cell_type": "code",
   "execution_count": 41,
   "metadata": {},
   "outputs": [],
   "source": [
    "def sent2vec(sent, conv_dict):\n",
    "    vec = []\n",
    "    for word in sent:\n",
    "        if word in conv_dict:\n",
    "            vec.append(conv_dict[word])\n",
    "    vec = np.array(vec)\n",
    "    if np.sum(vec) == 0:\n",
    "        return np.random.random((300,1))\n",
    "    vec = np.mean(vec, axis=0)\n",
    "    return vec"
   ]
  },
  {
   "cell_type": "code",
   "execution_count": 42,
   "metadata": {},
   "outputs": [
    {
     "name": "stderr",
     "output_type": "stream",
     "text": [
      "/home/aneeshj/miniconda3/lib/python3.6/site-packages/ipykernel_launcher.py:2: DeprecationWarning: Call to deprecated `wv` (Attribute will be removed in 4.0.0, use self instead).\n",
      "  \n"
     ]
    },
    {
     "data": {
      "text/plain": [
       "array([[0.27729828],\n",
       "       [0.41565691],\n",
       "       [0.2528838 ],\n",
       "       [0.19893421],\n",
       "       [0.78277468],\n",
       "       [0.38406636],\n",
       "       [0.95136311],\n",
       "       [0.84497698],\n",
       "       [0.03518571],\n",
       "       [0.75499513],\n",
       "       [0.40213985],\n",
       "       [0.05818774],\n",
       "       [0.75687047],\n",
       "       [0.7734462 ],\n",
       "       [0.32063898],\n",
       "       [0.93836904],\n",
       "       [0.20368438],\n",
       "       [0.63418916],\n",
       "       [0.65474358],\n",
       "       [0.48212211],\n",
       "       [0.25586492],\n",
       "       [0.08712715],\n",
       "       [0.92427931],\n",
       "       [0.98997494],\n",
       "       [0.77391123],\n",
       "       [0.69352164],\n",
       "       [0.55709614],\n",
       "       [0.81560773],\n",
       "       [0.36603579],\n",
       "       [0.48597452],\n",
       "       [0.94510137],\n",
       "       [0.12645839],\n",
       "       [0.10692845],\n",
       "       [0.74554884],\n",
       "       [0.49868396],\n",
       "       [0.41714623],\n",
       "       [0.76362684],\n",
       "       [0.10270063],\n",
       "       [0.84835832],\n",
       "       [0.03768844],\n",
       "       [0.07085137],\n",
       "       [0.446095  ],\n",
       "       [0.88065481],\n",
       "       [0.20075105],\n",
       "       [0.35771756],\n",
       "       [0.14327051],\n",
       "       [0.95644575],\n",
       "       [0.85348978],\n",
       "       [0.97320843],\n",
       "       [0.54111219],\n",
       "       [0.61837097],\n",
       "       [0.48612362],\n",
       "       [0.16483422],\n",
       "       [0.03939349],\n",
       "       [0.31445252],\n",
       "       [0.20404427],\n",
       "       [0.38269341],\n",
       "       [0.57392794],\n",
       "       [0.00187884],\n",
       "       [0.99724581],\n",
       "       [0.65749168],\n",
       "       [0.42978035],\n",
       "       [0.54146375],\n",
       "       [0.66325458],\n",
       "       [0.14021826],\n",
       "       [0.82264429],\n",
       "       [0.25982414],\n",
       "       [0.66667712],\n",
       "       [0.05295383],\n",
       "       [0.64049663],\n",
       "       [0.62862247],\n",
       "       [0.23401812],\n",
       "       [0.38551226],\n",
       "       [0.45054846],\n",
       "       [0.17914613],\n",
       "       [0.17428375],\n",
       "       [0.47013373],\n",
       "       [0.9574061 ],\n",
       "       [0.38613966],\n",
       "       [0.42028375],\n",
       "       [0.67167039],\n",
       "       [0.26304109],\n",
       "       [0.57774838],\n",
       "       [0.0964784 ],\n",
       "       [0.41767788],\n",
       "       [0.27405319],\n",
       "       [0.22846883],\n",
       "       [0.04481346],\n",
       "       [0.86684935],\n",
       "       [0.33704547],\n",
       "       [0.84232216],\n",
       "       [0.46829642],\n",
       "       [0.03144536],\n",
       "       [0.934651  ],\n",
       "       [0.01381459],\n",
       "       [0.73402923],\n",
       "       [0.36081327],\n",
       "       [0.24774197],\n",
       "       [0.38294378],\n",
       "       [0.27530699],\n",
       "       [0.5435087 ],\n",
       "       [0.72057078],\n",
       "       [0.35314855],\n",
       "       [0.62472253],\n",
       "       [0.07772006],\n",
       "       [0.90554482],\n",
       "       [0.89289124],\n",
       "       [0.21499998],\n",
       "       [0.96481634],\n",
       "       [0.34634109],\n",
       "       [0.9227423 ],\n",
       "       [0.78977391],\n",
       "       [0.30523818],\n",
       "       [0.67495863],\n",
       "       [0.25670196],\n",
       "       [0.70128105],\n",
       "       [0.22571241],\n",
       "       [0.61928523],\n",
       "       [0.08913342],\n",
       "       [0.84024322],\n",
       "       [0.3815937 ],\n",
       "       [0.20898766],\n",
       "       [0.0496749 ],\n",
       "       [0.99577846],\n",
       "       [0.23751921],\n",
       "       [0.68591694],\n",
       "       [0.05704022],\n",
       "       [0.8652261 ],\n",
       "       [0.30532471],\n",
       "       [0.31940872],\n",
       "       [0.99745377],\n",
       "       [0.83858152],\n",
       "       [0.62907781],\n",
       "       [0.64347455],\n",
       "       [0.07839419],\n",
       "       [0.641395  ],\n",
       "       [0.09131684],\n",
       "       [0.1770196 ],\n",
       "       [0.6980892 ],\n",
       "       [0.71816748],\n",
       "       [0.74095301],\n",
       "       [0.33208719],\n",
       "       [0.99184843],\n",
       "       [0.10254817],\n",
       "       [0.77719438],\n",
       "       [0.21141523],\n",
       "       [0.77366902],\n",
       "       [0.48885571],\n",
       "       [0.8599489 ],\n",
       "       [0.30679136],\n",
       "       [0.53924681],\n",
       "       [0.53238759],\n",
       "       [0.0866864 ],\n",
       "       [0.56757636],\n",
       "       [0.76162867],\n",
       "       [0.31832294],\n",
       "       [0.32683068],\n",
       "       [0.63610719],\n",
       "       [0.21283592],\n",
       "       [0.31272967],\n",
       "       [0.61092587],\n",
       "       [0.5508511 ],\n",
       "       [0.90884782],\n",
       "       [0.16513014],\n",
       "       [0.3759644 ],\n",
       "       [0.69117629],\n",
       "       [0.7873865 ],\n",
       "       [0.94289676],\n",
       "       [0.68900429],\n",
       "       [0.65243416],\n",
       "       [0.57313439],\n",
       "       [0.96582046],\n",
       "       [0.90807026],\n",
       "       [0.22718851],\n",
       "       [0.3138119 ],\n",
       "       [0.7681093 ],\n",
       "       [0.26135194],\n",
       "       [0.04931443],\n",
       "       [0.17875863],\n",
       "       [0.6713151 ],\n",
       "       [0.6244591 ],\n",
       "       [0.05787612],\n",
       "       [0.91641883],\n",
       "       [0.06346655],\n",
       "       [0.12831453],\n",
       "       [0.71361107],\n",
       "       [0.88476093],\n",
       "       [0.3057542 ],\n",
       "       [0.81754467],\n",
       "       [0.24465995],\n",
       "       [0.4988481 ],\n",
       "       [0.22636637],\n",
       "       [0.50566613],\n",
       "       [0.50889979],\n",
       "       [0.09627426],\n",
       "       [0.57188107],\n",
       "       [0.65062799],\n",
       "       [0.67483461],\n",
       "       [0.03948279],\n",
       "       [0.96538066],\n",
       "       [0.49978076],\n",
       "       [0.98276078],\n",
       "       [0.04694297],\n",
       "       [0.66354909],\n",
       "       [0.6330641 ],\n",
       "       [0.43737268],\n",
       "       [0.29077308],\n",
       "       [0.10993909],\n",
       "       [0.98272244],\n",
       "       [0.70801144],\n",
       "       [0.10648643],\n",
       "       [0.06609519],\n",
       "       [0.57815317],\n",
       "       [0.31386476],\n",
       "       [0.29381265],\n",
       "       [0.33404393],\n",
       "       [0.13304137],\n",
       "       [0.02170236],\n",
       "       [0.36025627],\n",
       "       [0.32022425],\n",
       "       [0.23025458],\n",
       "       [0.60265132],\n",
       "       [0.93504867],\n",
       "       [0.99346385],\n",
       "       [0.78463431],\n",
       "       [0.27325379],\n",
       "       [0.99260856],\n",
       "       [0.51842534],\n",
       "       [0.09269164],\n",
       "       [0.12534507],\n",
       "       [0.85166295],\n",
       "       [0.20293817],\n",
       "       [0.49474972],\n",
       "       [0.2384137 ],\n",
       "       [0.41776944],\n",
       "       [0.57594485],\n",
       "       [0.88871798],\n",
       "       [0.49750031],\n",
       "       [0.41738433],\n",
       "       [0.53868996],\n",
       "       [0.26440817],\n",
       "       [0.61641287],\n",
       "       [0.723735  ],\n",
       "       [0.23779046],\n",
       "       [0.39998141],\n",
       "       [0.30348445],\n",
       "       [0.83193162],\n",
       "       [0.57497923],\n",
       "       [0.69650727],\n",
       "       [0.50493421],\n",
       "       [0.63933459],\n",
       "       [0.05319625],\n",
       "       [0.73367909],\n",
       "       [0.6438632 ],\n",
       "       [0.68061045],\n",
       "       [0.29308159],\n",
       "       [0.64686928],\n",
       "       [0.21591755],\n",
       "       [0.92535867],\n",
       "       [0.17290965],\n",
       "       [0.93153805],\n",
       "       [0.13346291],\n",
       "       [0.20551048],\n",
       "       [0.76175586],\n",
       "       [0.9702802 ],\n",
       "       [0.21675312],\n",
       "       [0.90678129],\n",
       "       [0.54068631],\n",
       "       [0.78514127],\n",
       "       [0.33558754],\n",
       "       [0.2629201 ],\n",
       "       [0.06021483],\n",
       "       [0.8273078 ],\n",
       "       [0.32938975],\n",
       "       [0.40464309],\n",
       "       [0.80270084],\n",
       "       [0.58784312],\n",
       "       [0.83107257],\n",
       "       [0.19522517],\n",
       "       [0.20351649],\n",
       "       [0.77412326],\n",
       "       [0.67856586],\n",
       "       [0.61257806],\n",
       "       [0.41186941],\n",
       "       [0.01682005],\n",
       "       [0.1341443 ],\n",
       "       [0.89703757],\n",
       "       [0.82033981],\n",
       "       [0.80601173],\n",
       "       [0.30446117],\n",
       "       [0.14874736],\n",
       "       [0.85769715],\n",
       "       [0.28378614],\n",
       "       [0.62727254],\n",
       "       [0.22140398],\n",
       "       [0.7387359 ],\n",
       "       [0.8127892 ],\n",
       "       [0.87793622],\n",
       "       [0.61410482],\n",
       "       [0.70526361]])"
      ]
     },
     "execution_count": 42,
     "metadata": {},
     "output_type": "execute_result"
    }
   ],
   "source": [
    "import numpy as np\n",
    "sent2vec(simple_preprocess(\"aneesjh\"), kv_model.wv)"
   ]
  },
  {
   "cell_type": "code",
   "execution_count": 43,
   "metadata": {},
   "outputs": [],
   "source": [
    "import numpy as np\n",
    "from gensim.models.experimental import mapk, mean_ndcg\n",
    "\n",
    "def eval_model(queries, docs, labels, model, _translate_user_data):\n",
    "\n",
    "    long_label_list = []\n",
    "    long_pred_list = []\n",
    "    doc_lens = []\n",
    "    \n",
    "    for query, doc, label in zip(queries, docs, labels):\n",
    "        for d, l in zip(doc, label):\n",
    "            trans_q = _translate_user_data(query, model.wv)\n",
    "            trans_d = _translate_user_data(d, model.wv)\n",
    "            long_pred_list.append(cosine_similarity(trans_q, trans_d))\n",
    "            long_label_list.append(l)\n",
    "        doc_lens.append(len(doc))\n",
    "\n",
    "#     check_doc_len = []\n",
    "#     for d in docs:\n",
    "#         check_doc_len.append(len(d))\n",
    "        \n",
    "    print(len(long_pred_list))\n",
    "    print(len(long_label_list))\n",
    "#     print(long_label_list)\n",
    "    print(sum(doc_lens))\n",
    "# #     print(doc_lens)\n",
    "# #     print(check_doc_len)\n",
    "    \n",
    "# #     for i, q, d in zip(range(len(check_doc_len)), queries, docs):\n",
    "# #         if doc_lens[i] != check_doc_len[i]:\n",
    "# #             print(q, d)\n",
    "# #             break\n",
    "\n",
    "    predictions=long_pred_list\n",
    "    Y_pred = []\n",
    "    Y_true = []\n",
    "    offset = 0\n",
    "    for doc_size in doc_lens:\n",
    "        Y_pred.append(predictions[offset: offset + doc_size])\n",
    "        Y_true.append(long_label_list[offset: offset + doc_size])\n",
    "        offset += doc_size\n",
    "\n",
    "    print(\"MAP: %.2f\" % mapk(Y_true, Y_pred))\n",
    "    for k in [1, 3, 5, 10, 20]:\n",
    "        print(\"nDCG@%d : %.2f\"% (k, mean_ndcg(Y_true, Y_pred, k=k)))"
   ]
  },
  {
   "cell_type": "code",
   "execution_count": 44,
   "metadata": {},
   "outputs": [
    {
     "name": "stderr",
     "output_type": "stream",
     "text": [
      "/home/aneeshj/miniconda3/lib/python3.6/site-packages/ipykernel_launcher.py:12: DeprecationWarning: Call to deprecated `wv` (Attribute will be removed in 4.0.0, use self instead).\n",
      "  if sys.path[0] == '':\n",
      "/home/aneeshj/miniconda3/lib/python3.6/site-packages/ipykernel_launcher.py:13: DeprecationWarning: Call to deprecated `wv` (Attribute will be removed in 4.0.0, use self instead).\n",
      "  del sys.path[0]\n"
     ]
    },
    {
     "name": "stdout",
     "output_type": "stream",
     "text": [
      "Skipped  390\n",
      "2334\n",
      "2334\n",
      "2334\n",
      "MAP: 0.63\n",
      "nDCG@1 : 0.46\n",
      "nDCG@3 : 0.62\n",
      "nDCG@5 : 0.68\n",
      "nDCG@10 : 0.71\n",
      "nDCG@20 : 0.72\n"
     ]
    }
   ],
   "source": [
    "eval_model(q_test_iterable, d_test_iterable, l_test_iterable, kv_model, sent2vec)"
   ]
  },
  {
   "cell_type": "markdown",
   "metadata": {},
   "source": [
    "Let's compare that with our model"
   ]
  },
  {
   "cell_type": "code",
   "execution_count": null,
   "metadata": {},
   "outputs": [],
   "source": [
    "drmm_tks_model.evaluate(q_test_iterable, d_test_iterable, l_test_iterable)"
   ]
  },
  {
   "cell_type": "markdown",
   "metadata": {},
   "source": [
    "While the accuracy isn't any better, it is worse, this is still a Work In Progress and we hope to improve it further soon."
   ]
  }
 ],
 "metadata": {
  "kernelspec": {
   "display_name": "Python 3",
   "language": "python",
   "name": "python3"
  },
  "language_info": {
   "codemirror_mode": {
    "name": "ipython",
    "version": 3
   },
   "file_extension": ".py",
   "mimetype": "text/x-python",
   "name": "python",
   "nbconvert_exporter": "python",
   "pygments_lexer": "ipython3",
   "version": "3.6.5"
  }
 },
 "nbformat": 4,
 "nbformat_minor": 2
}
